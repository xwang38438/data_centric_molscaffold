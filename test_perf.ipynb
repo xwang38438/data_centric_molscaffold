{
 "cells": [
  {
   "cell_type": "code",
   "execution_count": 2,
   "metadata": {},
   "outputs": [
    {
     "name": "stderr",
     "output_type": "stream",
     "text": [
      "WARNING:root:The OGB package is out of date. Your version is 1.3.4, while the latest version is 1.3.6.\n"
     ]
    }
   ],
   "source": [
    "import torch\n",
    "from dataset.get_datasets import get_dataset\n",
    "import warnings\n",
    "import numpy as np\n",
    "from dataset.scaffold import ogbg_with_smiles\n",
    "import os \n",
    "import gzip\n",
    "import pandas as pd\n",
    "import matplotlib.pyplot as plt\n",
    "import sys\n",
    "sys.path.append('./plotter/')\n",
    "from plotter.plot import convert_idx_list, Orig_Plotter\n",
    "from dataset.scaffold import get_scaffold_split_info, _generate_scaffold, generate_scaffolds_dict\n",
    "\n",
    "warnings.filterwarnings('ignore')"
   ]
  },
  {
   "cell_type": "code",
   "execution_count": 3,
   "metadata": {},
   "outputs": [
    {
     "name": "stdout",
     "output_type": "stream",
     "text": [
      "cuda\n"
     ]
    }
   ],
   "source": [
    "device = torch.device(\"cuda\" if torch.cuda.is_available() else \"cpu\")\n",
    "print(device)    \n",
    "\n",
    "class Args:\n",
    "    def __init__(self):\n",
    "        self.dataset = 'ogbg-moltoxcast'\n",
    "        self.device = device\n",
    "        self.batch_size = 128\n",
    "        \n",
    "args = Args()\n",
    "\n",
    "\n",
    "labeled_dataset = get_dataset(args, './raw_data')\n",
    "labeled_dataset_list = [data for data in labeled_dataset]\n",
    "smile_path = os.path.join('./raw_data', '_'.join(args.dataset.split('-')), 'mapping/mol.csv.gz')\n",
    "smiles_df = pd.read_csv(smile_path, compression='gzip', usecols=['smiles'])\n",
    "smiles = smiles_df['smiles'].tolist() \n",
    "\n",
    "new_labeled_dataset = ogbg_with_smiles(name = args.dataset,\n",
    "                                   root = './raw_data',\n",
    "                                   data_list = labeled_dataset_list, \n",
    "                                   smile_list = smiles)\n",
    "label_split_idx_scaffold = new_labeled_dataset.get_idx_split(split_type = 'scaffold')"
   ]
  },
  {
   "cell_type": "code",
   "execution_count": 4,
   "metadata": {},
   "outputs": [
    {
     "data": {
      "text/plain": [
       "8576"
      ]
     },
     "execution_count": 4,
     "metadata": {},
     "output_type": "execute_result"
    }
   ],
   "source": [
    "len(new_labeled_dataset.scaff_smiles)"
   ]
  },
  {
   "cell_type": "code",
   "execution_count": 5,
   "metadata": {},
   "outputs": [
    {
     "name": "stdout",
     "output_type": "stream",
     "text": [
      "There are 4380 scaffolds in total and 8576 molecules in the dataset.\n"
     ]
    }
   ],
   "source": [
    "# scaffold set with index; ordered by the scaffold frequency\n",
    "_, all_scaffolds_set = generate_scaffolds_dict(smiles)\n",
    "print(f'There are {len(all_scaffolds_set)} scaffolds in total and {len(new_labeled_dataset)} molecules in the dataset.')\n",
    "# get scaffold smiles\n",
    "all_scaffolds_smiles = [tup[0] for tup in all_scaffolds_set]\n",
    "\n",
    "train_smiles = [smiles[i] for i in label_split_idx_scaffold['train']]\n",
    "_, train_scaffold = generate_scaffolds_dict(train_smiles)\n",
    "train_scaffold_num = dict([(tup[0], len(tup[1])) for tup in train_scaffold])\n",
    "\n",
    "valid_smiles = [smiles[i] for i in label_split_idx_scaffold['valid']]\n",
    "_, valid_scaffold = generate_scaffolds_dict(valid_smiles)\n",
    "valid_scaffold_num = dict([(tup[0], len(tup[1])) for tup in valid_scaffold])\n",
    "\n",
    "test_smiles = [smiles[i] for i in label_split_idx_scaffold['test']]\n",
    "_, test_scaffold = generate_scaffolds_dict(test_smiles)\n",
    "test_scaffold_num = dict([(tup[0], len(tup[1])) for tup in test_scaffold])"
   ]
  },
  {
   "cell_type": "code",
   "execution_count": 6,
   "metadata": {},
   "outputs": [],
   "source": [
    "for scaffold_smile in all_scaffolds_smiles:\n",
    "    if scaffold_smile not in train_scaffold_num:\n",
    "        train_scaffold_num[scaffold_smile] = 0\n",
    "    if scaffold_smile not in valid_scaffold_num:\n",
    "        valid_scaffold_num[scaffold_smile] = 0\n",
    "    if scaffold_smile not in test_scaffold_num:\n",
    "        test_scaffold_num[scaffold_smile] = 0\n",
    "        \n",
    "train_scaffold_num = dict(sorted(train_scaffold_num.items(), key=lambda item: item[0]))\n",
    "valid_scaffold_num = dict(sorted(valid_scaffold_num.items(), key=lambda item: item[0]))\n",
    "test_scaffold_num = dict(sorted(test_scaffold_num.items(), key=lambda item: item[0]))"
   ]
  },
  {
   "cell_type": "code",
   "execution_count": 7,
   "metadata": {},
   "outputs": [],
   "source": [
    "scaffold_split_dict = {}\n",
    "scaffold_num_dict = {}\n",
    "for scaffold_smile in all_scaffolds_smiles:\n",
    "    if train_scaffold_num[scaffold_smile] > 0:\n",
    "        scaffold_split_dict[scaffold_smile] = 'train'\n",
    "        scaffold_num_dict[scaffold_smile] = train_scaffold_num[scaffold_smile]\n",
    "    elif valid_scaffold_num[scaffold_smile] > 0:\n",
    "        scaffold_split_dict[scaffold_smile] = 'valid'\n",
    "        scaffold_num_dict[scaffold_smile] = valid_scaffold_num[scaffold_smile]\n",
    "    else:\n",
    "        scaffold_split_dict[scaffold_smile] = 'test'\n",
    "        scaffold_num_dict[scaffold_smile] = test_scaffold_num[scaffold_smile]"
   ]
  },
  {
   "cell_type": "code",
   "execution_count": 8,
   "metadata": {},
   "outputs": [
    {
     "data": {
      "text/html": [
       "<div>\n",
       "<style scoped>\n",
       "    .dataframe tbody tr th:only-of-type {\n",
       "        vertical-align: middle;\n",
       "    }\n",
       "\n",
       "    .dataframe tbody tr th {\n",
       "        vertical-align: top;\n",
       "    }\n",
       "\n",
       "    .dataframe thead th {\n",
       "        text-align: right;\n",
       "    }\n",
       "</style>\n",
       "<table border=\"1\" class=\"dataframe\">\n",
       "  <thead>\n",
       "    <tr style=\"text-align: right;\">\n",
       "      <th></th>\n",
       "      <th>scaffold</th>\n",
       "      <th>split</th>\n",
       "      <th>num</th>\n",
       "      <th>idx</th>\n",
       "    </tr>\n",
       "  </thead>\n",
       "  <tbody>\n",
       "    <tr>\n",
       "      <th>0</th>\n",
       "      <td>c1ccccc1</td>\n",
       "      <td>train</td>\n",
       "      <td>1578</td>\n",
       "      <td>[0, 3, 4, 6, 7, 8, 9, 10, 12, 13, 14, 15, 16, ...</td>\n",
       "    </tr>\n",
       "    <tr>\n",
       "      <th>1</th>\n",
       "      <td>c1ccncc1</td>\n",
       "      <td>train</td>\n",
       "      <td>108</td>\n",
       "      <td>[48, 52, 59, 60, 69, 70, 165, 265, 277, 334, 3...</td>\n",
       "    </tr>\n",
       "    <tr>\n",
       "      <th>2</th>\n",
       "      <td>c1ccc(Cc2ccccc2)cc1</td>\n",
       "      <td>train</td>\n",
       "      <td>85</td>\n",
       "      <td>[96, 119, 122, 128, 130, 132, 135, 624, 957, 1...</td>\n",
       "    </tr>\n",
       "    <tr>\n",
       "      <th>3</th>\n",
       "      <td>c1c[nH+]c[nH]1</td>\n",
       "      <td>train</td>\n",
       "      <td>81</td>\n",
       "      <td>[550, 929, 1099, 1970, 1971, 2021, 2022, 2256,...</td>\n",
       "    </tr>\n",
       "    <tr>\n",
       "      <th>4</th>\n",
       "      <td>c1ccc2ccccc2c1</td>\n",
       "      <td>train</td>\n",
       "      <td>74</td>\n",
       "      <td>[381, 921, 1149, 1152, 1531, 1666, 1697, 1706,...</td>\n",
       "    </tr>\n",
       "  </tbody>\n",
       "</table>\n",
       "</div>"
      ],
      "text/plain": [
       "              scaffold  split   num  \\\n",
       "0             c1ccccc1  train  1578   \n",
       "1             c1ccncc1  train   108   \n",
       "2  c1ccc(Cc2ccccc2)cc1  train    85   \n",
       "3       c1c[nH+]c[nH]1  train    81   \n",
       "4       c1ccc2ccccc2c1  train    74   \n",
       "\n",
       "                                                 idx  \n",
       "0  [0, 3, 4, 6, 7, 8, 9, 10, 12, 13, 14, 15, 16, ...  \n",
       "1  [48, 52, 59, 60, 69, 70, 165, 265, 277, 334, 3...  \n",
       "2  [96, 119, 122, 128, 130, 132, 135, 624, 957, 1...  \n",
       "3  [550, 929, 1099, 1970, 1971, 2021, 2022, 2256,...  \n",
       "4  [381, 921, 1149, 1152, 1531, 1666, 1697, 1706,...  "
      ]
     },
     "execution_count": 8,
     "metadata": {},
     "output_type": "execute_result"
    }
   ],
   "source": [
    "scaffold_split_df = pd.DataFrame.from_dict(scaffold_split_dict, orient='index')\n",
    "scaffold_split_df.reset_index(inplace=True)\n",
    "\n",
    "scaffold_split_df.columns = ['scaffold', 'split']\n",
    "scaffold_split_df['num'] = scaffold_split_df['scaffold'].map(scaffold_num_dict)\n",
    "scaffold_split_df['idx'] = scaffold_split_df['scaffold'].map(dict(all_scaffolds_set))\n",
    "scaffold_split_df.head()"
   ]
  },
  {
   "cell_type": "code",
   "execution_count": 9,
   "metadata": {},
   "outputs": [
    {
     "name": "stdout",
     "output_type": "stream",
     "text": [
      "4380\n"
     ]
    },
    {
     "data": {
      "text/html": [
       "<div>\n",
       "<style scoped>\n",
       "    .dataframe tbody tr th:only-of-type {\n",
       "        vertical-align: middle;\n",
       "    }\n",
       "\n",
       "    .dataframe tbody tr th {\n",
       "        vertical-align: top;\n",
       "    }\n",
       "\n",
       "    .dataframe thead th {\n",
       "        text-align: right;\n",
       "    }\n",
       "</style>\n",
       "<table border=\"1\" class=\"dataframe\">\n",
       "  <thead>\n",
       "    <tr style=\"text-align: right;\">\n",
       "      <th></th>\n",
       "      <th>t-SNE-1</th>\n",
       "      <th>t-SNE-2</th>\n",
       "      <th>target</th>\n",
       "      <th>num</th>\n",
       "    </tr>\n",
       "    <tr>\n",
       "      <th>scaffold</th>\n",
       "      <th></th>\n",
       "      <th></th>\n",
       "      <th></th>\n",
       "      <th></th>\n",
       "    </tr>\n",
       "  </thead>\n",
       "  <tbody>\n",
       "    <tr>\n",
       "      <th>c1ccccc1</th>\n",
       "      <td>20.287127</td>\n",
       "      <td>0.882692</td>\n",
       "      <td>train</td>\n",
       "      <td>1578</td>\n",
       "    </tr>\n",
       "    <tr>\n",
       "      <th>c1ccncc1</th>\n",
       "      <td>17.997335</td>\n",
       "      <td>2.444617</td>\n",
       "      <td>train</td>\n",
       "      <td>108</td>\n",
       "    </tr>\n",
       "    <tr>\n",
       "      <th>c1ccc(Cc2ccccc2)cc1</th>\n",
       "      <td>52.274902</td>\n",
       "      <td>-8.981404</td>\n",
       "      <td>train</td>\n",
       "      <td>85</td>\n",
       "    </tr>\n",
       "    <tr>\n",
       "      <th>c1c[nH+]c[nH]1</th>\n",
       "      <td>6.335900</td>\n",
       "      <td>8.843355</td>\n",
       "      <td>train</td>\n",
       "      <td>81</td>\n",
       "    </tr>\n",
       "    <tr>\n",
       "      <th>c1ccc2ccccc2c1</th>\n",
       "      <td>33.627678</td>\n",
       "      <td>4.319565</td>\n",
       "      <td>train</td>\n",
       "      <td>74</td>\n",
       "    </tr>\n",
       "  </tbody>\n",
       "</table>\n",
       "</div>"
      ],
      "text/plain": [
       "                       t-SNE-1   t-SNE-2 target   num\n",
       "scaffold                                             \n",
       "c1ccccc1             20.287127  0.882692  train  1578\n",
       "c1ccncc1             17.997335  2.444617  train   108\n",
       "c1ccc(Cc2ccccc2)cc1  52.274902 -8.981404  train    85\n",
       "c1c[nH+]c[nH]1        6.335900  8.843355  train    81\n",
       "c1ccc2ccccc2c1       33.627678  4.319565  train    74"
      ]
     },
     "execution_count": 9,
     "metadata": {},
     "output_type": "execute_result"
    }
   ],
   "source": [
    "# get the scaffold smiles for all test data\n",
    "test_idx = label_split_idx_scaffold['test']\n",
    "\n",
    "# extract the scaffold smiles(may have duplicates) and y for the test data \n",
    "test_scaff_smiles = new_labeled_dataset[test_idx].scaff_smiles\n",
    "test_y = new_labeled_dataset[test_idx].y.view(-1).tolist()\n",
    "\n",
    "# get tsne with all the scaffold smiles \n",
    "plot = Orig_Plotter.from_smiles(scaffold_split_df[\"scaffold\"], sim_type='structural',\n",
    "                                target = scaffold_split_df[\"split\"],target_type='C' )\n",
    "tsne = plot.tsne(random_state=0)\n",
    "\n",
    "# add num column to the tsne dataframe\n",
    "tsne['num'] = scaffold_split_df['num'].tolist()\n",
    "\n",
    "# print the num of rows in the tsne dataframe\n",
    "print(tsne.shape[0])\n",
    "\n",
    "tsne.head()"
   ]
  },
  {
   "cell_type": "code",
   "execution_count": 10,
   "metadata": {},
   "outputs": [
    {
     "name": "stdout",
     "output_type": "stream",
     "text": [
      "We get 858 test losses in total for ogbg-moltoxcast dataset. Matched with # test data: True\n"
     ]
    }
   ],
   "source": [
    "# load loss of testing data\n",
    "test_losses = torch.load(f'./results/{args.dataset}/test_losses.pt')\n",
    "if labeled_dataset.num_tasks == 1:\n",
    "    test_losses = test_losses.view(-1).tolist()\n",
    "else:\n",
    "    test_losses = test_losses.tolist()\n",
    "len(label_split_idx_scaffold['test'])\n",
    "print(f'We get {len(test_losses)} test losses in total for {args.dataset} dataset. Matched with # test data: {len(label_split_idx_scaffold[\"test\"])==len(test_losses)}')"
   ]
  },
  {
   "cell_type": "code",
   "execution_count": 16,
   "metadata": {},
   "outputs": [
    {
     "name": "stdout",
     "output_type": "stream",
     "text": [
      "858\n"
     ]
    },
    {
     "data": {
      "text/html": [
       "<div>\n",
       "<style scoped>\n",
       "    .dataframe tbody tr th:only-of-type {\n",
       "        vertical-align: middle;\n",
       "    }\n",
       "\n",
       "    .dataframe tbody tr th {\n",
       "        vertical-align: top;\n",
       "    }\n",
       "\n",
       "    .dataframe thead th {\n",
       "        text-align: right;\n",
       "    }\n",
       "</style>\n",
       "<table border=\"1\" class=\"dataframe\">\n",
       "  <thead>\n",
       "    <tr style=\"text-align: right;\">\n",
       "      <th></th>\n",
       "      <th>loss</th>\n",
       "      <th>t-SNE-1</th>\n",
       "      <th>t-SNE-2</th>\n",
       "    </tr>\n",
       "  </thead>\n",
       "  <tbody>\n",
       "    <tr>\n",
       "      <th>O=C(C1CCCCC1)N1CCNCC1</th>\n",
       "      <td>0.119711</td>\n",
       "      <td>10.169241</td>\n",
       "      <td>-34.314556</td>\n",
       "    </tr>\n",
       "    <tr>\n",
       "      <th>O=c1cco[nH]1</th>\n",
       "      <td>0.030749</td>\n",
       "      <td>22.262569</td>\n",
       "      <td>5.966265</td>\n",
       "    </tr>\n",
       "    <tr>\n",
       "      <th>C1CC2OCC1OC1CCC(CO1)OC1CCC(CO1)OC1CCC(CO1)OC1CCC(CO1)OC1CCC(CO1)O2</th>\n",
       "      <td>6.124045</td>\n",
       "      <td>-13.179893</td>\n",
       "      <td>-20.733986</td>\n",
       "    </tr>\n",
       "    <tr>\n",
       "      <th>C(=Cc1ccc2ccccc2n1)c1ccccc1</th>\n",
       "      <td>0.227554</td>\n",
       "      <td>52.519100</td>\n",
       "      <td>0.151482</td>\n",
       "    </tr>\n",
       "    <tr>\n",
       "      <th>O=C1Cc2cc3n(c(=O)c2CO1)Cc1cc2cc(OC(=O)N4CCC(N5CCCCC5)CC4)ccc2nc1-3</th>\n",
       "      <td>0.586589</td>\n",
       "      <td>15.358080</td>\n",
       "      <td>-13.688012</td>\n",
       "    </tr>\n",
       "  </tbody>\n",
       "</table>\n",
       "</div>"
      ],
      "text/plain": [
       "                                                        loss    t-SNE-1  \\\n",
       "O=C(C1CCCCC1)N1CCNCC1                               0.119711  10.169241   \n",
       "O=c1cco[nH]1                                        0.030749  22.262569   \n",
       "C1CC2OCC1OC1CCC(CO1)OC1CCC(CO1)OC1CCC(CO1)OC1CC...  6.124045 -13.179893   \n",
       "C(=Cc1ccc2ccccc2n1)c1ccccc1                         0.227554  52.519100   \n",
       "O=C1Cc2cc3n(c(=O)c2CO1)Cc1cc2cc(OC(=O)N4CCC(N5C...  0.586589  15.358080   \n",
       "\n",
       "                                                      t-SNE-2  \n",
       "O=C(C1CCCCC1)N1CCNCC1                              -34.314556  \n",
       "O=c1cco[nH]1                                         5.966265  \n",
       "C1CC2OCC1OC1CCC(CO1)OC1CCC(CO1)OC1CCC(CO1)OC1CC... -20.733986  \n",
       "C(=Cc1ccc2ccccc2n1)c1ccccc1                          0.151482  \n",
       "O=C1Cc2cc3n(c(=O)c2CO1)Cc1cc2cc(OC(=O)N4CCC(N5C... -13.688012  "
      ]
     },
     "execution_count": 16,
     "metadata": {},
     "output_type": "execute_result"
    }
   ],
   "source": [
    "# get scaffold smiles for all test data\n",
    "print(len(test_scaff_smiles))\n",
    "\n",
    "# concatenate test_scaff_smiles with test_losses to a dataframe\n",
    "test_scaff_losses_df = pd.DataFrame({'loss': test_losses})\n",
    "test_scaff_losses_df.index = test_scaff_smiles\n",
    "if labeled_dataset.num_tasks == 1:\n",
    "    test_scaff_losses_df['y'] = test_y\n",
    "\n",
    "# map tsne to test_scaff_losses_df\n",
    "test_scaff_losses_df['t-SNE-1'] = tsne.loc[test_scaff_losses_df.index, 't-SNE-1']\n",
    "test_scaff_losses_df['t-SNE-2'] = tsne.loc[test_scaff_losses_df.index, 't-SNE-2']\n",
    "\n",
    "test_scaff_losses_df.head()\n",
    "    "
   ]
  },
  {
   "cell_type": "code",
   "execution_count": 12,
   "metadata": {},
   "outputs": [
    {
     "ename": "KeyError",
     "evalue": "'t-SNE-1'",
     "output_type": "error",
     "traceback": [
      "\u001b[0;31m---------------------------------------------------------------------------\u001b[0m",
      "\u001b[0;31mKeyError\u001b[0m                                  Traceback (most recent call last)",
      "\u001b[0;32m~/miniconda3/envs/tda_diff/lib/python3.7/site-packages/pandas/core/indexes/base.py\u001b[0m in \u001b[0;36mget_loc\u001b[0;34m(self, key, method, tolerance)\u001b[0m\n\u001b[1;32m   3360\u001b[0m             \u001b[0;32mtry\u001b[0m\u001b[0;34m:\u001b[0m\u001b[0;34m\u001b[0m\u001b[0;34m\u001b[0m\u001b[0m\n\u001b[0;32m-> 3361\u001b[0;31m                 \u001b[0;32mreturn\u001b[0m \u001b[0mself\u001b[0m\u001b[0;34m.\u001b[0m\u001b[0m_engine\u001b[0m\u001b[0;34m.\u001b[0m\u001b[0mget_loc\u001b[0m\u001b[0;34m(\u001b[0m\u001b[0mcasted_key\u001b[0m\u001b[0;34m)\u001b[0m\u001b[0;34m\u001b[0m\u001b[0;34m\u001b[0m\u001b[0m\n\u001b[0m\u001b[1;32m   3362\u001b[0m             \u001b[0;32mexcept\u001b[0m \u001b[0mKeyError\u001b[0m \u001b[0;32mas\u001b[0m \u001b[0merr\u001b[0m\u001b[0;34m:\u001b[0m\u001b[0;34m\u001b[0m\u001b[0;34m\u001b[0m\u001b[0m\n",
      "\u001b[0;32m~/miniconda3/envs/tda_diff/lib/python3.7/site-packages/pandas/_libs/index.pyx\u001b[0m in \u001b[0;36mpandas._libs.index.IndexEngine.get_loc\u001b[0;34m()\u001b[0m\n",
      "\u001b[0;32m~/miniconda3/envs/tda_diff/lib/python3.7/site-packages/pandas/_libs/index.pyx\u001b[0m in \u001b[0;36mpandas._libs.index.IndexEngine.get_loc\u001b[0;34m()\u001b[0m\n",
      "\u001b[0;32mpandas/_libs/hashtable_class_helper.pxi\u001b[0m in \u001b[0;36mpandas._libs.hashtable.PyObjectHashTable.get_item\u001b[0;34m()\u001b[0m\n",
      "\u001b[0;32mpandas/_libs/hashtable_class_helper.pxi\u001b[0m in \u001b[0;36mpandas._libs.hashtable.PyObjectHashTable.get_item\u001b[0;34m()\u001b[0m\n",
      "\u001b[0;31mKeyError\u001b[0m: 't-SNE-1'",
      "\nThe above exception was the direct cause of the following exception:\n",
      "\u001b[0;31mKeyError\u001b[0m                                  Traceback (most recent call last)",
      "\u001b[0;32m<ipython-input-12-20d24729c2cc>\u001b[0m in \u001b[0;36m<module>\u001b[0;34m\u001b[0m\n\u001b[1;32m     10\u001b[0m     \u001b[0mcount\u001b[0m \u001b[0;34m=\u001b[0m \u001b[0;36m0\u001b[0m\u001b[0;34m\u001b[0m\u001b[0;34m\u001b[0m\u001b[0m\n\u001b[1;32m     11\u001b[0m     \u001b[0;32mfor\u001b[0m \u001b[0mtrain_index\u001b[0m\u001b[0;34m,\u001b[0m \u001b[0mtrain_row\u001b[0m \u001b[0;32min\u001b[0m \u001b[0mtrain_df\u001b[0m\u001b[0;34m.\u001b[0m\u001b[0miterrows\u001b[0m\u001b[0;34m(\u001b[0m\u001b[0;34m)\u001b[0m\u001b[0;34m:\u001b[0m\u001b[0;34m\u001b[0m\u001b[0;34m\u001b[0m\u001b[0m\n\u001b[0;32m---> 12\u001b[0;31m         \u001b[0mdistance\u001b[0m \u001b[0;34m=\u001b[0m \u001b[0mnp\u001b[0m\u001b[0;34m.\u001b[0m\u001b[0msqrt\u001b[0m\u001b[0;34m(\u001b[0m\u001b[0;34m(\u001b[0m\u001b[0mtest_row\u001b[0m\u001b[0;34m[\u001b[0m\u001b[0;34m't-SNE-1'\u001b[0m\u001b[0;34m]\u001b[0m \u001b[0;34m-\u001b[0m \u001b[0mtrain_row\u001b[0m\u001b[0;34m[\u001b[0m\u001b[0;34m't-SNE-1'\u001b[0m\u001b[0;34m]\u001b[0m\u001b[0;34m)\u001b[0m\u001b[0;34m**\u001b[0m\u001b[0;36m2\u001b[0m \u001b[0;34m+\u001b[0m \u001b[0;34m(\u001b[0m\u001b[0mtest_row\u001b[0m\u001b[0;34m[\u001b[0m\u001b[0;34m't-SNE-2'\u001b[0m\u001b[0;34m]\u001b[0m \u001b[0;34m-\u001b[0m \u001b[0mtrain_row\u001b[0m\u001b[0;34m[\u001b[0m\u001b[0;34m't-SNE-2'\u001b[0m\u001b[0;34m]\u001b[0m\u001b[0;34m)\u001b[0m\u001b[0;34m**\u001b[0m\u001b[0;36m2\u001b[0m\u001b[0;34m)\u001b[0m\u001b[0;34m\u001b[0m\u001b[0;34m\u001b[0m\u001b[0m\n\u001b[0m\u001b[1;32m     13\u001b[0m         \u001b[0mdistances\u001b[0m\u001b[0;34m.\u001b[0m\u001b[0mappend\u001b[0m\u001b[0;34m(\u001b[0m\u001b[0mdistance\u001b[0m\u001b[0;34m)\u001b[0m\u001b[0;34m\u001b[0m\u001b[0;34m\u001b[0m\u001b[0m\n\u001b[1;32m     14\u001b[0m         \u001b[0;32mif\u001b[0m \u001b[0mdistance\u001b[0m \u001b[0;34m<=\u001b[0m \u001b[0mradius\u001b[0m\u001b[0;34m:\u001b[0m\u001b[0;34m\u001b[0m\u001b[0;34m\u001b[0m\u001b[0m\n",
      "\u001b[0;32m~/miniconda3/envs/tda_diff/lib/python3.7/site-packages/pandas/core/series.py\u001b[0m in \u001b[0;36m__getitem__\u001b[0;34m(self, key)\u001b[0m\n\u001b[1;32m    940\u001b[0m \u001b[0;34m\u001b[0m\u001b[0m\n\u001b[1;32m    941\u001b[0m         \u001b[0;32melif\u001b[0m \u001b[0mkey_is_scalar\u001b[0m\u001b[0;34m:\u001b[0m\u001b[0;34m\u001b[0m\u001b[0;34m\u001b[0m\u001b[0m\n\u001b[0;32m--> 942\u001b[0;31m             \u001b[0;32mreturn\u001b[0m \u001b[0mself\u001b[0m\u001b[0;34m.\u001b[0m\u001b[0m_get_value\u001b[0m\u001b[0;34m(\u001b[0m\u001b[0mkey\u001b[0m\u001b[0;34m)\u001b[0m\u001b[0;34m\u001b[0m\u001b[0;34m\u001b[0m\u001b[0m\n\u001b[0m\u001b[1;32m    943\u001b[0m \u001b[0;34m\u001b[0m\u001b[0m\n\u001b[1;32m    944\u001b[0m         \u001b[0;32mif\u001b[0m \u001b[0mis_hashable\u001b[0m\u001b[0;34m(\u001b[0m\u001b[0mkey\u001b[0m\u001b[0;34m)\u001b[0m\u001b[0;34m:\u001b[0m\u001b[0;34m\u001b[0m\u001b[0;34m\u001b[0m\u001b[0m\n",
      "\u001b[0;32m~/miniconda3/envs/tda_diff/lib/python3.7/site-packages/pandas/core/series.py\u001b[0m in \u001b[0;36m_get_value\u001b[0;34m(self, label, takeable)\u001b[0m\n\u001b[1;32m   1049\u001b[0m \u001b[0;34m\u001b[0m\u001b[0m\n\u001b[1;32m   1050\u001b[0m         \u001b[0;31m# Similar to Index.get_value, but we do not fall back to positional\u001b[0m\u001b[0;34m\u001b[0m\u001b[0;34m\u001b[0m\u001b[0;34m\u001b[0m\u001b[0m\n\u001b[0;32m-> 1051\u001b[0;31m         \u001b[0mloc\u001b[0m \u001b[0;34m=\u001b[0m \u001b[0mself\u001b[0m\u001b[0;34m.\u001b[0m\u001b[0mindex\u001b[0m\u001b[0;34m.\u001b[0m\u001b[0mget_loc\u001b[0m\u001b[0;34m(\u001b[0m\u001b[0mlabel\u001b[0m\u001b[0;34m)\u001b[0m\u001b[0;34m\u001b[0m\u001b[0;34m\u001b[0m\u001b[0m\n\u001b[0m\u001b[1;32m   1052\u001b[0m         \u001b[0;32mreturn\u001b[0m \u001b[0mself\u001b[0m\u001b[0;34m.\u001b[0m\u001b[0mindex\u001b[0m\u001b[0;34m.\u001b[0m\u001b[0m_get_values_for_loc\u001b[0m\u001b[0;34m(\u001b[0m\u001b[0mself\u001b[0m\u001b[0;34m,\u001b[0m \u001b[0mloc\u001b[0m\u001b[0;34m,\u001b[0m \u001b[0mlabel\u001b[0m\u001b[0;34m)\u001b[0m\u001b[0;34m\u001b[0m\u001b[0;34m\u001b[0m\u001b[0m\n\u001b[1;32m   1053\u001b[0m \u001b[0;34m\u001b[0m\u001b[0m\n",
      "\u001b[0;32m~/miniconda3/envs/tda_diff/lib/python3.7/site-packages/pandas/core/indexes/base.py\u001b[0m in \u001b[0;36mget_loc\u001b[0;34m(self, key, method, tolerance)\u001b[0m\n\u001b[1;32m   3361\u001b[0m                 \u001b[0;32mreturn\u001b[0m \u001b[0mself\u001b[0m\u001b[0;34m.\u001b[0m\u001b[0m_engine\u001b[0m\u001b[0;34m.\u001b[0m\u001b[0mget_loc\u001b[0m\u001b[0;34m(\u001b[0m\u001b[0mcasted_key\u001b[0m\u001b[0;34m)\u001b[0m\u001b[0;34m\u001b[0m\u001b[0;34m\u001b[0m\u001b[0m\n\u001b[1;32m   3362\u001b[0m             \u001b[0;32mexcept\u001b[0m \u001b[0mKeyError\u001b[0m \u001b[0;32mas\u001b[0m \u001b[0merr\u001b[0m\u001b[0;34m:\u001b[0m\u001b[0;34m\u001b[0m\u001b[0;34m\u001b[0m\u001b[0m\n\u001b[0;32m-> 3363\u001b[0;31m                 \u001b[0;32mraise\u001b[0m \u001b[0mKeyError\u001b[0m\u001b[0;34m(\u001b[0m\u001b[0mkey\u001b[0m\u001b[0;34m)\u001b[0m \u001b[0;32mfrom\u001b[0m \u001b[0merr\u001b[0m\u001b[0;34m\u001b[0m\u001b[0;34m\u001b[0m\u001b[0m\n\u001b[0m\u001b[1;32m   3364\u001b[0m \u001b[0;34m\u001b[0m\u001b[0m\n\u001b[1;32m   3365\u001b[0m         \u001b[0;32mif\u001b[0m \u001b[0mis_scalar\u001b[0m\u001b[0;34m(\u001b[0m\u001b[0mkey\u001b[0m\u001b[0;34m)\u001b[0m \u001b[0;32mand\u001b[0m \u001b[0misna\u001b[0m\u001b[0;34m(\u001b[0m\u001b[0mkey\u001b[0m\u001b[0;34m)\u001b[0m \u001b[0;32mand\u001b[0m \u001b[0;32mnot\u001b[0m \u001b[0mself\u001b[0m\u001b[0;34m.\u001b[0m\u001b[0mhasnans\u001b[0m\u001b[0;34m:\u001b[0m\u001b[0;34m\u001b[0m\u001b[0;34m\u001b[0m\u001b[0m\n",
      "\u001b[0;31mKeyError\u001b[0m: 't-SNE-1'"
     ]
    }
   ],
   "source": [
    "train_df = tsne[tsne['target'] == 'train']\n",
    "# test_df = tsne[tsne['target'] == 'test']\n",
    "\n",
    "radius = 4\n",
    "train_points_within_radius = []\n",
    "avg_distances = []\n",
    "\n",
    "for test_index, test_row in test_scaff_losses_df.iterrows():\n",
    "    distances = []\n",
    "    count = 0\n",
    "    for train_index, train_row in train_df.iterrows():\n",
    "        distance = np.sqrt((test_row['t-SNE-1'] - train_row['t-SNE-1'])**2 + (test_row['t-SNE-2'] - train_row['t-SNE-2'])**2)\n",
    "        distances.append(distance)\n",
    "        if distance <= radius:\n",
    "            count += train_row['num']\n",
    "    avg_distance = np.mean(distances) if distances else np.nan\n",
    "    avg_distances.append(avg_distance)\n",
    "    train_points_within_radius.append(count)\n",
    "\n",
    "test_scaff_losses_df['avg_distance'] = avg_distances\n",
    "test_scaff_losses_df['train_points_within_radius'] = train_points_within_radius\n",
    "test_scaff_losses_df.head()\n",
    "\n",
    "# exclude loss < 0.1\n",
    "# filterd_test_scaff_losses_df = test_scaff_losses_df[test_scaff_losses_df['loss'] > 1.5]"
   ]
  },
  {
   "cell_type": "code",
   "execution_count": 13,
   "metadata": {},
   "outputs": [
    {
     "ename": "KeyError",
     "evalue": "'y'",
     "output_type": "error",
     "traceback": [
      "\u001b[0;31m---------------------------------------------------------------------------\u001b[0m",
      "\u001b[0;31mKeyError\u001b[0m                                  Traceback (most recent call last)",
      "\u001b[0;32m~/miniconda3/envs/tda_diff/lib/python3.7/site-packages/pandas/core/indexes/base.py\u001b[0m in \u001b[0;36mget_loc\u001b[0;34m(self, key, method, tolerance)\u001b[0m\n\u001b[1;32m   3360\u001b[0m             \u001b[0;32mtry\u001b[0m\u001b[0;34m:\u001b[0m\u001b[0;34m\u001b[0m\u001b[0;34m\u001b[0m\u001b[0m\n\u001b[0;32m-> 3361\u001b[0;31m                 \u001b[0;32mreturn\u001b[0m \u001b[0mself\u001b[0m\u001b[0;34m.\u001b[0m\u001b[0m_engine\u001b[0m\u001b[0;34m.\u001b[0m\u001b[0mget_loc\u001b[0m\u001b[0;34m(\u001b[0m\u001b[0mcasted_key\u001b[0m\u001b[0;34m)\u001b[0m\u001b[0;34m\u001b[0m\u001b[0;34m\u001b[0m\u001b[0m\n\u001b[0m\u001b[1;32m   3362\u001b[0m             \u001b[0;32mexcept\u001b[0m \u001b[0mKeyError\u001b[0m \u001b[0;32mas\u001b[0m \u001b[0merr\u001b[0m\u001b[0;34m:\u001b[0m\u001b[0;34m\u001b[0m\u001b[0;34m\u001b[0m\u001b[0m\n",
      "\u001b[0;32m~/miniconda3/envs/tda_diff/lib/python3.7/site-packages/pandas/_libs/index.pyx\u001b[0m in \u001b[0;36mpandas._libs.index.IndexEngine.get_loc\u001b[0;34m()\u001b[0m\n",
      "\u001b[0;32m~/miniconda3/envs/tda_diff/lib/python3.7/site-packages/pandas/_libs/index.pyx\u001b[0m in \u001b[0;36mpandas._libs.index.IndexEngine.get_loc\u001b[0;34m()\u001b[0m\n",
      "\u001b[0;32mpandas/_libs/hashtable_class_helper.pxi\u001b[0m in \u001b[0;36mpandas._libs.hashtable.PyObjectHashTable.get_item\u001b[0;34m()\u001b[0m\n",
      "\u001b[0;32mpandas/_libs/hashtable_class_helper.pxi\u001b[0m in \u001b[0;36mpandas._libs.hashtable.PyObjectHashTable.get_item\u001b[0;34m()\u001b[0m\n",
      "\u001b[0;31mKeyError\u001b[0m: 'y'",
      "\nThe above exception was the direct cause of the following exception:\n",
      "\u001b[0;31mKeyError\u001b[0m                                  Traceback (most recent call last)",
      "\u001b[0;32m<ipython-input-13-08543e54b813>\u001b[0m in \u001b[0;36m<module>\u001b[0;34m\u001b[0m\n\u001b[1;32m      6\u001b[0m \u001b[0;31m# 0 -> star, 1 -> triangle\u001b[0m\u001b[0;34m\u001b[0m\u001b[0;34m\u001b[0m\u001b[0;34m\u001b[0m\u001b[0m\n\u001b[1;32m      7\u001b[0m \u001b[0;32mfor\u001b[0m \u001b[0my\u001b[0m\u001b[0;34m,\u001b[0m \u001b[0mshape\u001b[0m \u001b[0;32min\u001b[0m \u001b[0mshapes\u001b[0m\u001b[0;34m.\u001b[0m\u001b[0mitems\u001b[0m\u001b[0;34m(\u001b[0m\u001b[0;34m)\u001b[0m\u001b[0;34m:\u001b[0m\u001b[0;34m\u001b[0m\u001b[0;34m\u001b[0m\u001b[0m\n\u001b[0;32m----> 8\u001b[0;31m     \u001b[0mmask\u001b[0m \u001b[0;34m=\u001b[0m \u001b[0mtest_scaff_losses_df\u001b[0m\u001b[0;34m[\u001b[0m\u001b[0;34m'y'\u001b[0m\u001b[0;34m]\u001b[0m \u001b[0;34m==\u001b[0m \u001b[0my\u001b[0m\u001b[0;34m\u001b[0m\u001b[0;34m\u001b[0m\u001b[0m\n\u001b[0m\u001b[1;32m      9\u001b[0m     \u001b[0mx\u001b[0m \u001b[0;34m=\u001b[0m \u001b[0mtest_scaff_losses_df\u001b[0m\u001b[0;34m.\u001b[0m\u001b[0mloc\u001b[0m\u001b[0;34m[\u001b[0m\u001b[0mmask\u001b[0m\u001b[0;34m,\u001b[0m \u001b[0;34m'train_points_within_radius'\u001b[0m\u001b[0;34m]\u001b[0m\u001b[0;34m\u001b[0m\u001b[0;34m\u001b[0m\u001b[0m\n\u001b[1;32m     10\u001b[0m     \u001b[0my_values\u001b[0m \u001b[0;34m=\u001b[0m \u001b[0mtest_scaff_losses_df\u001b[0m\u001b[0;34m.\u001b[0m\u001b[0mloc\u001b[0m\u001b[0;34m[\u001b[0m\u001b[0mmask\u001b[0m\u001b[0;34m,\u001b[0m \u001b[0;34m'loss'\u001b[0m\u001b[0;34m]\u001b[0m\u001b[0;34m\u001b[0m\u001b[0;34m\u001b[0m\u001b[0m\n",
      "\u001b[0;32m~/miniconda3/envs/tda_diff/lib/python3.7/site-packages/pandas/core/frame.py\u001b[0m in \u001b[0;36m__getitem__\u001b[0;34m(self, key)\u001b[0m\n\u001b[1;32m   3456\u001b[0m             \u001b[0;32mif\u001b[0m \u001b[0mself\u001b[0m\u001b[0;34m.\u001b[0m\u001b[0mcolumns\u001b[0m\u001b[0;34m.\u001b[0m\u001b[0mnlevels\u001b[0m \u001b[0;34m>\u001b[0m \u001b[0;36m1\u001b[0m\u001b[0;34m:\u001b[0m\u001b[0;34m\u001b[0m\u001b[0;34m\u001b[0m\u001b[0m\n\u001b[1;32m   3457\u001b[0m                 \u001b[0;32mreturn\u001b[0m \u001b[0mself\u001b[0m\u001b[0;34m.\u001b[0m\u001b[0m_getitem_multilevel\u001b[0m\u001b[0;34m(\u001b[0m\u001b[0mkey\u001b[0m\u001b[0;34m)\u001b[0m\u001b[0;34m\u001b[0m\u001b[0;34m\u001b[0m\u001b[0m\n\u001b[0;32m-> 3458\u001b[0;31m             \u001b[0mindexer\u001b[0m \u001b[0;34m=\u001b[0m \u001b[0mself\u001b[0m\u001b[0;34m.\u001b[0m\u001b[0mcolumns\u001b[0m\u001b[0;34m.\u001b[0m\u001b[0mget_loc\u001b[0m\u001b[0;34m(\u001b[0m\u001b[0mkey\u001b[0m\u001b[0;34m)\u001b[0m\u001b[0;34m\u001b[0m\u001b[0;34m\u001b[0m\u001b[0m\n\u001b[0m\u001b[1;32m   3459\u001b[0m             \u001b[0;32mif\u001b[0m \u001b[0mis_integer\u001b[0m\u001b[0;34m(\u001b[0m\u001b[0mindexer\u001b[0m\u001b[0;34m)\u001b[0m\u001b[0;34m:\u001b[0m\u001b[0;34m\u001b[0m\u001b[0;34m\u001b[0m\u001b[0m\n\u001b[1;32m   3460\u001b[0m                 \u001b[0mindexer\u001b[0m \u001b[0;34m=\u001b[0m \u001b[0;34m[\u001b[0m\u001b[0mindexer\u001b[0m\u001b[0;34m]\u001b[0m\u001b[0;34m\u001b[0m\u001b[0;34m\u001b[0m\u001b[0m\n",
      "\u001b[0;32m~/miniconda3/envs/tda_diff/lib/python3.7/site-packages/pandas/core/indexes/base.py\u001b[0m in \u001b[0;36mget_loc\u001b[0;34m(self, key, method, tolerance)\u001b[0m\n\u001b[1;32m   3361\u001b[0m                 \u001b[0;32mreturn\u001b[0m \u001b[0mself\u001b[0m\u001b[0;34m.\u001b[0m\u001b[0m_engine\u001b[0m\u001b[0;34m.\u001b[0m\u001b[0mget_loc\u001b[0m\u001b[0;34m(\u001b[0m\u001b[0mcasted_key\u001b[0m\u001b[0;34m)\u001b[0m\u001b[0;34m\u001b[0m\u001b[0;34m\u001b[0m\u001b[0m\n\u001b[1;32m   3362\u001b[0m             \u001b[0;32mexcept\u001b[0m \u001b[0mKeyError\u001b[0m \u001b[0;32mas\u001b[0m \u001b[0merr\u001b[0m\u001b[0;34m:\u001b[0m\u001b[0;34m\u001b[0m\u001b[0;34m\u001b[0m\u001b[0m\n\u001b[0;32m-> 3363\u001b[0;31m                 \u001b[0;32mraise\u001b[0m \u001b[0mKeyError\u001b[0m\u001b[0;34m(\u001b[0m\u001b[0mkey\u001b[0m\u001b[0;34m)\u001b[0m \u001b[0;32mfrom\u001b[0m \u001b[0merr\u001b[0m\u001b[0;34m\u001b[0m\u001b[0;34m\u001b[0m\u001b[0m\n\u001b[0m\u001b[1;32m   3364\u001b[0m \u001b[0;34m\u001b[0m\u001b[0m\n\u001b[1;32m   3365\u001b[0m         \u001b[0;32mif\u001b[0m \u001b[0mis_scalar\u001b[0m\u001b[0;34m(\u001b[0m\u001b[0mkey\u001b[0m\u001b[0;34m)\u001b[0m \u001b[0;32mand\u001b[0m \u001b[0misna\u001b[0m\u001b[0;34m(\u001b[0m\u001b[0mkey\u001b[0m\u001b[0;34m)\u001b[0m \u001b[0;32mand\u001b[0m \u001b[0;32mnot\u001b[0m \u001b[0mself\u001b[0m\u001b[0;34m.\u001b[0m\u001b[0mhasnans\u001b[0m\u001b[0;34m:\u001b[0m\u001b[0;34m\u001b[0m\u001b[0;34m\u001b[0m\u001b[0m\n",
      "\u001b[0;31mKeyError\u001b[0m: 'y'"
     ]
    },
    {
     "data": {
      "image/png": "[encoded data removed]",
      "text/plain": [
       "<Figure size 1080x720 with 1 Axes>"
      ]
     },
     "metadata": {
      "needs_background": "light"
     },
     "output_type": "display_data"
    }
   ],
   "source": [
    "fig, ax = plt.subplots()\n",
    "fig.set_size_inches(15, 10)\n",
    "shapes = {0: '*', 1: '^'}\n",
    "\n",
    "# give different shape to points with different y\n",
    "# 0 -> star, 1 -> triangle\n",
    "for y, shape in shapes.items():\n",
    "    mask = test_scaff_losses_df['y'] == y\n",
    "    x = test_scaff_losses_df.loc[mask, 'train_points_within_radius']\n",
    "    y_values = test_scaff_losses_df.loc[mask, 'loss']\n",
    "    plt.scatter(x, y_values, marker=shape, label=f'y={y}')\n",
    "\n",
    "    # Fit a line to the points\n",
    "    m, b = np.polyfit(x, y_values, 1)\n",
    "\n",
    "    # Sort the points by x-value\n",
    "    x, y_values = zip(*sorted(zip(x, m*x + b)))\n",
    "\n",
    "    # Plot the line\n",
    "    plt.plot(x, y_values, linestyle='--', linewidth=1)\n",
    "\n",
    "ax.set_xlabel('Number of Train Points within Radius', fontsize=20)\n",
    "if \"classification\" in labeled_dataset.task_type:\n",
    "    ax.set_ylabel('BCE Loss', fontsize=20)\n",
    "    ax.set_title(f'# train points within radius(r={radius}) vs BCE Loss {args.dataset}', fontsize=20)\n",
    "else:\n",
    "    ax.set_ylabel('MSE Loss', fontsize=20)\n",
    "    ax.set_title(f'# train points within radius vs MSE Loss {args.dataset}', fontsize=20)\n",
    "\n",
    "ax.legend(fontsize=20)\n",
    "ax.grid(True)\n",
    "# save the plot\n",
    "plt.savefig(f'./results/{args.dataset}/train_points_within_radius_vs_loss.png', facecolor='w')\n",
    "\n",
    "plt.show()"
   ]
  },
  {
   "cell_type": "code",
   "execution_count": null,
   "metadata": {},
   "outputs": [],
   "source": []
  }
 ],
 "metadata": {
  "kernelspec": {
   "display_name": "tda_diff",
   "language": "python",
   "name": "python3"
  },
  "language_info": {
   "codemirror_mode": {
    "name": "ipython",
    "version": 3
   },
   "file_extension": ".py",
   "mimetype": "text/x-python",
   "name": "python",
   "nbconvert_exporter": "python",
   "pygments_lexer": "ipython3",
   "version": "3.7.12"
  }
 },
 "nbformat": 4,
 "nbformat_minor": 2
}
