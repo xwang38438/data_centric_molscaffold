{
 "cells": [
  {
   "cell_type": "code",
   "execution_count": 1,
   "metadata": {},
   "outputs": [
    {
     "name": "stderr",
     "output_type": "stream",
     "text": [
      "WARNING:root:The OGB package is out of date. Your version is 1.3.4, while the latest version is 1.3.6.\n"
     ]
    }
   ],
   "source": [
    "import torch\n",
    "from dataset.get_datasets import get_dataset\n",
    "import warnings\n",
    "\n",
    "from dataset.scaffold import ogbg_with_smiles\n",
    "import os \n",
    "import gzip\n",
    "import pandas as pd\n",
    "import matplotlib.pyplot as plt\n",
    "import sys\n",
    "sys.path.append('./plotter/')\n",
    "from plotter.plot import convert_idx_list, Orig_Plotter\n",
    "from dataset.scaffold import get_scaffold_split_info, _generate_scaffold, generate_scaffolds_dict\n",
    "\n",
    "warnings.filterwarnings('ignore')"
   ]
  },
  {
   "cell_type": "code",
   "execution_count": 2,
   "metadata": {},
   "outputs": [
    {
     "name": "stdout",
     "output_type": "stream",
     "text": [
      "cuda\n"
     ]
    }
   ],
   "source": [
    "device = torch.device(\"cuda\" if torch.cuda.is_available() else \"cpu\")\n",
    "print(device)    \n",
    "\n",
    "class Args:\n",
    "    def __init__(self):\n",
    "        self.dataset = 'ogbg-molbace'\n",
    "        self.device = device\n",
    "        self.batch_size = 128\n",
    "        \n",
    "args = Args()\n",
    "\n",
    "\n",
    "labeled_dataset = get_dataset(args, './raw_data')\n",
    "labeled_dataset_list = [data for data in labeled_dataset]\n",
    "smile_path = os.path.join('./raw_data', '_'.join(args.dataset.split('-')), 'mapping/mol.csv.gz')\n",
    "smiles_df = pd.read_csv(smile_path, compression='gzip', usecols=['smiles'])\n",
    "smiles = smiles_df['smiles'].tolist() \n",
    "\n",
    "new_labeled_dataset = ogbg_with_smiles(name = args.dataset,\n",
    "                                   root = './raw_data',\n",
    "                                   data_list = labeled_dataset_list, \n",
    "                                   smile_list = smiles)\n",
    "label_split_idx_scaffold = new_labeled_dataset.get_idx_split(split_type = 'scaffold')"
   ]
  },
  {
   "cell_type": "code",
   "execution_count": 3,
   "metadata": {},
   "outputs": [
    {
     "name": "stdout",
     "output_type": "stream",
     "text": [
      "There are 675 scaffolds in total and 1513 molecules in the dataset.\n"
     ]
    }
   ],
   "source": [
    "# scaffold set with index; ordered by the scaffold frequency\n",
    "_, all_scaffolds_set = generate_scaffolds_dict(smiles)\n",
    "print(f'There are {len(all_scaffolds_set)} scaffolds in total and {len(new_labeled_dataset)} molecules in the dataset.')\n",
    "# get scaffold smiles\n",
    "all_scaffolds_smiles = [tup[0] for tup in all_scaffolds_set]\n",
    "\n",
    "train_smiles = [smiles[i] for i in label_split_idx_scaffold['train']]\n",
    "_, train_scaffold = generate_scaffolds_dict(train_smiles)\n",
    "train_scaffold_num = dict([(tup[0], len(tup[1])) for tup in train_scaffold])\n",
    "\n",
    "valid_smiles = [smiles[i] for i in label_split_idx_scaffold['valid']]\n",
    "_, valid_scaffold = generate_scaffolds_dict(valid_smiles)\n",
    "valid_scaffold_num = dict([(tup[0], len(tup[1])) for tup in valid_scaffold])\n",
    "\n",
    "test_smiles = [smiles[i] for i in label_split_idx_scaffold['test']]\n",
    "_, test_scaffold = generate_scaffolds_dict(test_smiles)\n",
    "test_scaffold_num = dict([(tup[0], len(tup[1])) for tup in test_scaffold])"
   ]
  },
  {
   "cell_type": "code",
   "execution_count": 4,
   "metadata": {},
   "outputs": [],
   "source": [
    "for scaffold_smile in all_scaffolds_smiles:\n",
    "    if scaffold_smile not in train_scaffold_num:\n",
    "        train_scaffold_num[scaffold_smile] = 0\n",
    "    if scaffold_smile not in valid_scaffold_num:\n",
    "        valid_scaffold_num[scaffold_smile] = 0\n",
    "    if scaffold_smile not in test_scaffold_num:\n",
    "        test_scaffold_num[scaffold_smile] = 0\n",
    "        \n",
    "train_scaffold_num = dict(sorted(train_scaffold_num.items(), key=lambda item: item[0]))\n",
    "valid_scaffold_num = dict(sorted(valid_scaffold_num.items(), key=lambda item: item[0]))\n",
    "test_scaffold_num = dict(sorted(test_scaffold_num.items(), key=lambda item: item[0]))"
   ]
  },
  {
   "cell_type": "code",
   "execution_count": 5,
   "metadata": {},
   "outputs": [],
   "source": [
    "scaffold_split_dict = {}\n",
    "scaffold_num_dict = {}\n",
    "for scaffold_smile in all_scaffolds_smiles:\n",
    "    if train_scaffold_num[scaffold_smile] > 0:\n",
    "        scaffold_split_dict[scaffold_smile] = 'train'\n",
    "        scaffold_num_dict[scaffold_smile] = train_scaffold_num[scaffold_smile]\n",
    "    elif valid_scaffold_num[scaffold_smile] > 0:\n",
    "        scaffold_split_dict[scaffold_smile] = 'valid'\n",
    "        scaffold_num_dict[scaffold_smile] = valid_scaffold_num[scaffold_smile]\n",
    "    else:\n",
    "        scaffold_split_dict[scaffold_smile] = 'test'\n",
    "        scaffold_num_dict[scaffold_smile] = test_scaffold_num[scaffold_smile]"
   ]
  },
  {
   "cell_type": "code",
   "execution_count": 6,
   "metadata": {},
   "outputs": [
    {
     "data": {
      "text/html": [
       "<div>\n",
       "<style scoped>\n",
       "    .dataframe tbody tr th:only-of-type {\n",
       "        vertical-align: middle;\n",
       "    }\n",
       "\n",
       "    .dataframe tbody tr th {\n",
       "        vertical-align: top;\n",
       "    }\n",
       "\n",
       "    .dataframe thead th {\n",
       "        text-align: right;\n",
       "    }\n",
       "</style>\n",
       "<table border=\"1\" class=\"dataframe\">\n",
       "  <thead>\n",
       "    <tr style=\"text-align: right;\">\n",
       "      <th></th>\n",
       "      <th>scaffold</th>\n",
       "      <th>split</th>\n",
       "      <th>num</th>\n",
       "      <th>idx</th>\n",
       "    </tr>\n",
       "  </thead>\n",
       "  <tbody>\n",
       "    <tr>\n",
       "      <th>0</th>\n",
       "      <td>O=C1NC=NC1(c1ccccc1)c1ccccc1</td>\n",
       "      <td>train</td>\n",
       "      <td>55</td>\n",
       "      <td>[41, 374, 375, 376, 377, 378, 379, 402, 410, 4...</td>\n",
       "    </tr>\n",
       "    <tr>\n",
       "      <th>1</th>\n",
       "      <td>O=S1(=O)CC(Cc2ccccc2)CC([NH2+]Cc2ccccc2)C1</td>\n",
       "      <td>train</td>\n",
       "      <td>53</td>\n",
       "      <td>[3, 75, 144, 262, 263, 264, 265, 283, 296, 319...</td>\n",
       "    </tr>\n",
       "    <tr>\n",
       "      <th>2</th>\n",
       "      <td>c1ccc(CCCC[NH2+]C2(c3ccccc3)CCCCC2)cc1</td>\n",
       "      <td>train</td>\n",
       "      <td>41</td>\n",
       "      <td>[72, 452, 510, 511, 584, 605, 642, 646, 653, 7...</td>\n",
       "    </tr>\n",
       "    <tr>\n",
       "      <th>3</th>\n",
       "      <td>c1ccc(CCCC[NH2+]C2CC3(CCC3)Oc3ncccc32)cc1</td>\n",
       "      <td>train</td>\n",
       "      <td>30</td>\n",
       "      <td>[20, 250, 251, 258, 259, 266, 267, 268, 278, 2...</td>\n",
       "    </tr>\n",
       "    <tr>\n",
       "      <th>4</th>\n",
       "      <td>O=C(Nc1cccc(C2CCOC=N2)c1)c1ccccn1</td>\n",
       "      <td>train</td>\n",
       "      <td>26</td>\n",
       "      <td>[37, 39, 48, 53, 60, 68, 76, 77, 79, 90, 111, ...</td>\n",
       "    </tr>\n",
       "  </tbody>\n",
       "</table>\n",
       "</div>"
      ],
      "text/plain": [
       "                                     scaffold  split  num  \\\n",
       "0                O=C1NC=NC1(c1ccccc1)c1ccccc1  train   55   \n",
       "1  O=S1(=O)CC(Cc2ccccc2)CC([NH2+]Cc2ccccc2)C1  train   53   \n",
       "2      c1ccc(CCCC[NH2+]C2(c3ccccc3)CCCCC2)cc1  train   41   \n",
       "3   c1ccc(CCCC[NH2+]C2CC3(CCC3)Oc3ncccc32)cc1  train   30   \n",
       "4           O=C(Nc1cccc(C2CCOC=N2)c1)c1ccccn1  train   26   \n",
       "\n",
       "                                                 idx  \n",
       "0  [41, 374, 375, 376, 377, 378, 379, 402, 410, 4...  \n",
       "1  [3, 75, 144, 262, 263, 264, 265, 283, 296, 319...  \n",
       "2  [72, 452, 510, 511, 584, 605, 642, 646, 653, 7...  \n",
       "3  [20, 250, 251, 258, 259, 266, 267, 268, 278, 2...  \n",
       "4  [37, 39, 48, 53, 60, 68, 76, 77, 79, 90, 111, ...  "
      ]
     },
     "execution_count": 6,
     "metadata": {},
     "output_type": "execute_result"
    }
   ],
   "source": [
    "scaffold_split_df = pd.DataFrame.from_dict(scaffold_split_dict, orient='index')\n",
    "scaffold_split_df.reset_index(inplace=True)\n",
    "\n",
    "scaffold_split_df.columns = ['scaffold', 'split']\n",
    "scaffold_split_df['num'] = scaffold_split_df['scaffold'].map(scaffold_num_dict)\n",
    "scaffold_split_df['idx'] = scaffold_split_df['scaffold'].map(dict(all_scaffolds_set))\n",
    "scaffold_split_df.head()"
   ]
  },
  {
   "cell_type": "code",
   "execution_count": 7,
   "metadata": {},
   "outputs": [
    {
     "name": "stdout",
     "output_type": "stream",
     "text": [
      "We get 152 test losses in total for ogbg-molbace dataset. Matched with # test data: True\n"
     ]
    }
   ],
   "source": [
    "# load loss of testing data\n",
    "test_losses = torch.load(f'./results/{args.dataset}/test_losses.pt')\n",
    "test_losses = test_losses.view(-1).tolist()\n",
    "len(label_split_idx_scaffold['test'])\n",
    "print(f'We get {len(test_losses)} test losses in total for {args.dataset} dataset. Matched with # test data: {len(label_split_idx_scaffold[\"test\"])==len(test_losses)}')\n",
    "\n",
    "test_idx = label_split_idx_scaffold['test']"
   ]
  },
  {
   "cell_type": "code",
   "execution_count": 14,
   "metadata": {},
   "outputs": [],
   "source": [
    "# get the scaffold smiles for all test data\n",
    "test_scaff_smiles = new_labeled_dataset[test_idx].scaff_smiles\n",
    "# get tsne with all the scaffold smiles \n",
    "\n",
    "plot = Orig_Plotter.from_smiles(scaffold_split_df[\"scaffold\"], sim_type='structural',\n",
    "                                target = scaffold_split_df[\"split\"],target_type='C' )\n",
    "#plot.tsne(random_state=0)"
   ]
  },
  {
   "cell_type": "code",
   "execution_count": 15,
   "metadata": {},
   "outputs": [],
   "source": [
    "tsne = plot.tsne(random_state=0)\n"
   ]
  },
  {
   "cell_type": "code",
   "execution_count": 27,
   "metadata": {},
   "outputs": [
    {
     "data": {
      "text/html": [
       "<div>\n",
       "<style scoped>\n",
       "    .dataframe tbody tr th:only-of-type {\n",
       "        vertical-align: middle;\n",
       "    }\n",
       "\n",
       "    .dataframe tbody tr th {\n",
       "        vertical-align: top;\n",
       "    }\n",
       "\n",
       "    .dataframe thead th {\n",
       "        text-align: right;\n",
       "    }\n",
       "</style>\n",
       "<table border=\"1\" class=\"dataframe\">\n",
       "  <thead>\n",
       "    <tr style=\"text-align: right;\">\n",
       "      <th></th>\n",
       "      <th>t-SNE-1</th>\n",
       "      <th>t-SNE-2</th>\n",
       "      <th>target</th>\n",
       "    </tr>\n",
       "    <tr>\n",
       "      <th>scaffold</th>\n",
       "      <th></th>\n",
       "      <th></th>\n",
       "      <th></th>\n",
       "    </tr>\n",
       "  </thead>\n",
       "  <tbody>\n",
       "    <tr>\n",
       "      <th>O=C1NC=NC1(c1ccccc1)c1ccccc1</th>\n",
       "      <td>24.082638</td>\n",
       "      <td>-15.460136</td>\n",
       "      <td>train</td>\n",
       "    </tr>\n",
       "    <tr>\n",
       "      <th>O=S1(=O)CC(Cc2ccccc2)CC([NH2+]Cc2ccccc2)C1</th>\n",
       "      <td>-16.625343</td>\n",
       "      <td>3.913365</td>\n",
       "      <td>train</td>\n",
       "    </tr>\n",
       "    <tr>\n",
       "      <th>c1ccc(CCCC[NH2+]C2(c3ccccc3)CCCCC2)cc1</th>\n",
       "      <td>-38.907372</td>\n",
       "      <td>-18.081070</td>\n",
       "      <td>train</td>\n",
       "    </tr>\n",
       "    <tr>\n",
       "      <th>c1ccc(CCCC[NH2+]C2CC3(CCC3)Oc3ncccc32)cc1</th>\n",
       "      <td>-40.491924</td>\n",
       "      <td>3.022293</td>\n",
       "      <td>train</td>\n",
       "    </tr>\n",
       "    <tr>\n",
       "      <th>O=C(Nc1cccc(C2CCOC=N2)c1)c1ccccn1</th>\n",
       "      <td>54.015190</td>\n",
       "      <td>-0.518270</td>\n",
       "      <td>train</td>\n",
       "    </tr>\n",
       "  </tbody>\n",
       "</table>\n",
       "</div>"
      ],
      "text/plain": [
       "                                              t-SNE-1    t-SNE-2 target\n",
       "scaffold                                                               \n",
       "O=C1NC=NC1(c1ccccc1)c1ccccc1                24.082638 -15.460136  train\n",
       "O=S1(=O)CC(Cc2ccccc2)CC([NH2+]Cc2ccccc2)C1 -16.625343   3.913365  train\n",
       "c1ccc(CCCC[NH2+]C2(c3ccccc3)CCCCC2)cc1     -38.907372 -18.081070  train\n",
       "c1ccc(CCCC[NH2+]C2CC3(CCC3)Oc3ncccc32)cc1  -40.491924   3.022293  train\n",
       "O=C(Nc1cccc(C2CCOC=N2)c1)c1ccccn1           54.015190  -0.518270  train"
      ]
     },
     "execution_count": 27,
     "metadata": {},
     "output_type": "execute_result"
    }
   ],
   "source": [
    "tsne.head()"
   ]
  }
 ],
 "metadata": {
  "kernelspec": {
   "display_name": "tda_diff",
   "language": "python",
   "name": "python3"
  },
  "language_info": {
   "codemirror_mode": {
    "name": "ipython",
    "version": 3
   },
   "file_extension": ".py",
   "mimetype": "text/x-python",
   "name": "python",
   "nbconvert_exporter": "python",
   "pygments_lexer": "ipython3",
   "version": "3.7.12"
  }
 },
 "nbformat": 4,
 "nbformat_minor": 2
}
