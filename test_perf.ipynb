{
 "cells": [
  {
   "cell_type": "code",
   "execution_count": 32,
   "metadata": {},
   "outputs": [],
   "source": [
    "import torch\n",
    "from dataset.get_datasets import get_dataset\n",
    "import warnings\n",
    "import numpy as np\n",
    "from dataset.scaffold import ogbg_with_smiles\n",
    "import os \n",
    "import gzip\n",
    "import pandas as pd\n",
    "import matplotlib.pyplot as plt\n",
    "import sys\n",
    "sys.path.append('./plotter/')\n",
    "from plotter.plot import convert_idx_list, Orig_Plotter\n",
    "from dataset.scaffold import get_scaffold_split_info, _generate_scaffold, generate_scaffolds_dict\n",
    "\n",
    "warnings.filterwarnings('ignore')"
   ]
  },
  {
   "cell_type": "code",
   "execution_count": 33,
   "metadata": {},
   "outputs": [
    {
     "name": "stdout",
     "output_type": "stream",
     "text": [
      "cuda\n"
     ]
    }
   ],
   "source": [
    "device = torch.device(\"cuda\" if torch.cuda.is_available() else \"cpu\")\n",
    "print(device)    \n",
    "\n",
    "class Args:\n",
    "    def __init__(self):\n",
    "        self.dataset = 'ogbg-molbace'\n",
    "        self.device = device\n",
    "        self.batch_size = 128\n",
    "        \n",
    "args = Args()\n",
    "\n",
    "\n",
    "labeled_dataset = get_dataset(args, './raw_data')\n",
    "labeled_dataset_list = [data for data in labeled_dataset]\n",
    "smile_path = os.path.join('./raw_data', '_'.join(args.dataset.split('-')), 'mapping/mol.csv.gz')\n",
    "smiles_df = pd.read_csv(smile_path, compression='gzip', usecols=['smiles'])\n",
    "smiles = smiles_df['smiles'].tolist() \n",
    "\n",
    "new_labeled_dataset = ogbg_with_smiles(name = args.dataset,\n",
    "                                   root = './raw_data',\n",
    "                                   data_list = labeled_dataset_list, \n",
    "                                   smile_list = smiles)\n",
    "label_split_idx_scaffold = new_labeled_dataset.get_idx_split(split_type = 'scaffold')"
   ]
  },
  {
   "cell_type": "code",
   "execution_count": 34,
   "metadata": {},
   "outputs": [
    {
     "name": "stdout",
     "output_type": "stream",
     "text": [
      "There are 675 scaffolds in total and 1513 molecules in the dataset.\n"
     ]
    }
   ],
   "source": [
    "# scaffold set with index; ordered by the scaffold frequency\n",
    "_, all_scaffolds_set = generate_scaffolds_dict(smiles)\n",
    "print(f'There are {len(all_scaffolds_set)} scaffolds in total and {len(new_labeled_dataset)} molecules in the dataset.')\n",
    "# get scaffold smiles\n",
    "all_scaffolds_smiles = [tup[0] for tup in all_scaffolds_set]\n",
    "\n",
    "train_smiles = [smiles[i] for i in label_split_idx_scaffold['train']]\n",
    "_, train_scaffold = generate_scaffolds_dict(train_smiles)\n",
    "train_scaffold_num = dict([(tup[0], len(tup[1])) for tup in train_scaffold])\n",
    "\n",
    "valid_smiles = [smiles[i] for i in label_split_idx_scaffold['valid']]\n",
    "_, valid_scaffold = generate_scaffolds_dict(valid_smiles)\n",
    "valid_scaffold_num = dict([(tup[0], len(tup[1])) for tup in valid_scaffold])\n",
    "\n",
    "test_smiles = [smiles[i] for i in label_split_idx_scaffold['test']]\n",
    "_, test_scaffold = generate_scaffolds_dict(test_smiles)\n",
    "test_scaffold_num = dict([(tup[0], len(tup[1])) for tup in test_scaffold])"
   ]
  },
  {
   "cell_type": "code",
   "execution_count": 35,
   "metadata": {},
   "outputs": [],
   "source": [
    "for scaffold_smile in all_scaffolds_smiles:\n",
    "    if scaffold_smile not in train_scaffold_num:\n",
    "        train_scaffold_num[scaffold_smile] = 0\n",
    "    if scaffold_smile not in valid_scaffold_num:\n",
    "        valid_scaffold_num[scaffold_smile] = 0\n",
    "    if scaffold_smile not in test_scaffold_num:\n",
    "        test_scaffold_num[scaffold_smile] = 0\n",
    "        \n",
    "train_scaffold_num = dict(sorted(train_scaffold_num.items(), key=lambda item: item[0]))\n",
    "valid_scaffold_num = dict(sorted(valid_scaffold_num.items(), key=lambda item: item[0]))\n",
    "test_scaffold_num = dict(sorted(test_scaffold_num.items(), key=lambda item: item[0]))"
   ]
  },
  {
   "cell_type": "code",
   "execution_count": 36,
   "metadata": {},
   "outputs": [],
   "source": [
    "scaffold_split_dict = {}\n",
    "scaffold_num_dict = {}\n",
    "for scaffold_smile in all_scaffolds_smiles:\n",
    "    if train_scaffold_num[scaffold_smile] > 0:\n",
    "        scaffold_split_dict[scaffold_smile] = 'train'\n",
    "        scaffold_num_dict[scaffold_smile] = train_scaffold_num[scaffold_smile]\n",
    "    elif valid_scaffold_num[scaffold_smile] > 0:\n",
    "        scaffold_split_dict[scaffold_smile] = 'valid'\n",
    "        scaffold_num_dict[scaffold_smile] = valid_scaffold_num[scaffold_smile]\n",
    "    else:\n",
    "        scaffold_split_dict[scaffold_smile] = 'test'\n",
    "        scaffold_num_dict[scaffold_smile] = test_scaffold_num[scaffold_smile]"
   ]
  },
  {
   "cell_type": "code",
   "execution_count": 37,
   "metadata": {},
   "outputs": [
    {
     "data": {
      "text/html": [
       "<div>\n",
       "<style scoped>\n",
       "    .dataframe tbody tr th:only-of-type {\n",
       "        vertical-align: middle;\n",
       "    }\n",
       "\n",
       "    .dataframe tbody tr th {\n",
       "        vertical-align: top;\n",
       "    }\n",
       "\n",
       "    .dataframe thead th {\n",
       "        text-align: right;\n",
       "    }\n",
       "</style>\n",
       "<table border=\"1\" class=\"dataframe\">\n",
       "  <thead>\n",
       "    <tr style=\"text-align: right;\">\n",
       "      <th></th>\n",
       "      <th>scaffold</th>\n",
       "      <th>split</th>\n",
       "      <th>num</th>\n",
       "      <th>idx</th>\n",
       "    </tr>\n",
       "  </thead>\n",
       "  <tbody>\n",
       "    <tr>\n",
       "      <th>0</th>\n",
       "      <td>O=C1NC=NC1(c1ccccc1)c1ccccc1</td>\n",
       "      <td>train</td>\n",
       "      <td>55</td>\n",
       "      <td>[41, 374, 375, 376, 377, 378, 379, 402, 410, 4...</td>\n",
       "    </tr>\n",
       "    <tr>\n",
       "      <th>1</th>\n",
       "      <td>O=S1(=O)CC(Cc2ccccc2)CC([NH2+]Cc2ccccc2)C1</td>\n",
       "      <td>train</td>\n",
       "      <td>53</td>\n",
       "      <td>[3, 75, 144, 262, 263, 264, 265, 283, 296, 319...</td>\n",
       "    </tr>\n",
       "    <tr>\n",
       "      <th>2</th>\n",
       "      <td>c1ccc(CCCC[NH2+]C2(c3ccccc3)CCCCC2)cc1</td>\n",
       "      <td>train</td>\n",
       "      <td>41</td>\n",
       "      <td>[72, 452, 510, 511, 584, 605, 642, 646, 653, 7...</td>\n",
       "    </tr>\n",
       "    <tr>\n",
       "      <th>3</th>\n",
       "      <td>c1ccc(CCCC[NH2+]C2CC3(CCC3)Oc3ncccc32)cc1</td>\n",
       "      <td>train</td>\n",
       "      <td>30</td>\n",
       "      <td>[20, 250, 251, 258, 259, 266, 267, 268, 278, 2...</td>\n",
       "    </tr>\n",
       "    <tr>\n",
       "      <th>4</th>\n",
       "      <td>O=C(Nc1cccc(C2CCOC=N2)c1)c1ccccn1</td>\n",
       "      <td>train</td>\n",
       "      <td>26</td>\n",
       "      <td>[37, 39, 48, 53, 60, 68, 76, 77, 79, 90, 111, ...</td>\n",
       "    </tr>\n",
       "  </tbody>\n",
       "</table>\n",
       "</div>"
      ],
      "text/plain": [
       "                                     scaffold  split  num  \\\n",
       "0                O=C1NC=NC1(c1ccccc1)c1ccccc1  train   55   \n",
       "1  O=S1(=O)CC(Cc2ccccc2)CC([NH2+]Cc2ccccc2)C1  train   53   \n",
       "2      c1ccc(CCCC[NH2+]C2(c3ccccc3)CCCCC2)cc1  train   41   \n",
       "3   c1ccc(CCCC[NH2+]C2CC3(CCC3)Oc3ncccc32)cc1  train   30   \n",
       "4           O=C(Nc1cccc(C2CCOC=N2)c1)c1ccccn1  train   26   \n",
       "\n",
       "                                                 idx  \n",
       "0  [41, 374, 375, 376, 377, 378, 379, 402, 410, 4...  \n",
       "1  [3, 75, 144, 262, 263, 264, 265, 283, 296, 319...  \n",
       "2  [72, 452, 510, 511, 584, 605, 642, 646, 653, 7...  \n",
       "3  [20, 250, 251, 258, 259, 266, 267, 268, 278, 2...  \n",
       "4  [37, 39, 48, 53, 60, 68, 76, 77, 79, 90, 111, ...  "
      ]
     },
     "execution_count": 37,
     "metadata": {},
     "output_type": "execute_result"
    }
   ],
   "source": [
    "scaffold_split_df = pd.DataFrame.from_dict(scaffold_split_dict, orient='index')\n",
    "scaffold_split_df.reset_index(inplace=True)\n",
    "\n",
    "scaffold_split_df.columns = ['scaffold', 'split']\n",
    "scaffold_split_df['num'] = scaffold_split_df['scaffold'].map(scaffold_num_dict)\n",
    "scaffold_split_df['idx'] = scaffold_split_df['scaffold'].map(dict(all_scaffolds_set))\n",
    "scaffold_split_df.head()"
   ]
  },
  {
   "cell_type": "code",
   "execution_count": 38,
   "metadata": {},
   "outputs": [
    {
     "data": {
      "text/html": [
       "<div>\n",
       "<style scoped>\n",
       "    .dataframe tbody tr th:only-of-type {\n",
       "        vertical-align: middle;\n",
       "    }\n",
       "\n",
       "    .dataframe tbody tr th {\n",
       "        vertical-align: top;\n",
       "    }\n",
       "\n",
       "    .dataframe thead th {\n",
       "        text-align: right;\n",
       "    }\n",
       "</style>\n",
       "<table border=\"1\" class=\"dataframe\">\n",
       "  <thead>\n",
       "    <tr style=\"text-align: right;\">\n",
       "      <th></th>\n",
       "      <th>t-SNE-1</th>\n",
       "      <th>t-SNE-2</th>\n",
       "      <th>target</th>\n",
       "      <th>num</th>\n",
       "    </tr>\n",
       "    <tr>\n",
       "      <th>scaffold</th>\n",
       "      <th></th>\n",
       "      <th></th>\n",
       "      <th></th>\n",
       "      <th></th>\n",
       "    </tr>\n",
       "  </thead>\n",
       "  <tbody>\n",
       "    <tr>\n",
       "      <th>O=C1NC=NC1(c1ccccc1)c1ccccc1</th>\n",
       "      <td>24.082638</td>\n",
       "      <td>-15.460136</td>\n",
       "      <td>train</td>\n",
       "      <td>55</td>\n",
       "    </tr>\n",
       "    <tr>\n",
       "      <th>O=S1(=O)CC(Cc2ccccc2)CC([NH2+]Cc2ccccc2)C1</th>\n",
       "      <td>-16.625343</td>\n",
       "      <td>3.913365</td>\n",
       "      <td>train</td>\n",
       "      <td>53</td>\n",
       "    </tr>\n",
       "    <tr>\n",
       "      <th>c1ccc(CCCC[NH2+]C2(c3ccccc3)CCCCC2)cc1</th>\n",
       "      <td>-38.907372</td>\n",
       "      <td>-18.081070</td>\n",
       "      <td>train</td>\n",
       "      <td>41</td>\n",
       "    </tr>\n",
       "    <tr>\n",
       "      <th>c1ccc(CCCC[NH2+]C2CC3(CCC3)Oc3ncccc32)cc1</th>\n",
       "      <td>-40.491924</td>\n",
       "      <td>3.022293</td>\n",
       "      <td>train</td>\n",
       "      <td>30</td>\n",
       "    </tr>\n",
       "    <tr>\n",
       "      <th>O=C(Nc1cccc(C2CCOC=N2)c1)c1ccccn1</th>\n",
       "      <td>54.015190</td>\n",
       "      <td>-0.518270</td>\n",
       "      <td>train</td>\n",
       "      <td>26</td>\n",
       "    </tr>\n",
       "  </tbody>\n",
       "</table>\n",
       "</div>"
      ],
      "text/plain": [
       "                                              t-SNE-1    t-SNE-2 target  num\n",
       "scaffold                                                                    \n",
       "O=C1NC=NC1(c1ccccc1)c1ccccc1                24.082638 -15.460136  train   55\n",
       "O=S1(=O)CC(Cc2ccccc2)CC([NH2+]Cc2ccccc2)C1 -16.625343   3.913365  train   53\n",
       "c1ccc(CCCC[NH2+]C2(c3ccccc3)CCCCC2)cc1     -38.907372 -18.081070  train   41\n",
       "c1ccc(CCCC[NH2+]C2CC3(CCC3)Oc3ncccc32)cc1  -40.491924   3.022293  train   30\n",
       "O=C(Nc1cccc(C2CCOC=N2)c1)c1ccccn1           54.015190  -0.518270  train   26"
      ]
     },
     "execution_count": 38,
     "metadata": {},
     "output_type": "execute_result"
    }
   ],
   "source": [
    "# get the scaffold smiles for all test data\n",
    "test_idx = label_split_idx_scaffold['test']\n",
    "test_scaff_smiles = new_labeled_dataset[test_idx].scaff_smiles\n",
    "\n",
    "\n",
    "# get tsne with all the scaffold smiles \n",
    "plot = Orig_Plotter.from_smiles(scaffold_split_df[\"scaffold\"], sim_type='structural',\n",
    "                                target = scaffold_split_df[\"split\"],target_type='C' )\n",
    "tsne = plot.tsne(random_state=0)\n",
    "\n",
    "# add num column to the tsne dataframe\n",
    "tsne['num'] = scaffold_split_df['num'].tolist()\n",
    "\n",
    "tsne.head()"
   ]
  },
  {
   "cell_type": "code",
   "execution_count": 39,
   "metadata": {},
   "outputs": [
    {
     "name": "stdout",
     "output_type": "stream",
     "text": [
      "We get 152 test losses in total for ogbg-molbace dataset. Matched with # test data: True\n"
     ]
    }
   ],
   "source": [
    "# load loss of testing data\n",
    "test_losses = torch.load(f'./results/{args.dataset}/test_losses.pt')\n",
    "if labeled_dataset.num_tasks == 1:\n",
    "    test_losses = test_losses.view(-1).tolist()\n",
    "else:\n",
    "    test_losses = test_losses.tolist()\n",
    "len(label_split_idx_scaffold['test'])\n",
    "print(f'We get {len(test_losses)} test losses in total for {args.dataset} dataset. Matched with # test data: {len(label_split_idx_scaffold[\"test\"])==len(test_losses)}')"
   ]
  },
  {
   "cell_type": "code",
   "execution_count": 40,
   "metadata": {},
   "outputs": [
    {
     "name": "stdout",
     "output_type": "stream",
     "text": [
      "152\n"
     ]
    },
    {
     "data": {
      "text/html": [
       "<div>\n",
       "<style scoped>\n",
       "    .dataframe tbody tr th:only-of-type {\n",
       "        vertical-align: middle;\n",
       "    }\n",
       "\n",
       "    .dataframe tbody tr th {\n",
       "        vertical-align: top;\n",
       "    }\n",
       "\n",
       "    .dataframe thead th {\n",
       "        text-align: right;\n",
       "    }\n",
       "</style>\n",
       "<table border=\"1\" class=\"dataframe\">\n",
       "  <thead>\n",
       "    <tr style=\"text-align: right;\">\n",
       "      <th></th>\n",
       "      <th>loss</th>\n",
       "      <th>t-SNE-1</th>\n",
       "      <th>t-SNE-2</th>\n",
       "    </tr>\n",
       "  </thead>\n",
       "  <tbody>\n",
       "    <tr>\n",
       "      <th>O=C(CCc1cnc2ccc(-c3ccccc3)cc2c1)NC1CCOCC1</th>\n",
       "      <td>2.718842</td>\n",
       "      <td>16.516743</td>\n",
       "      <td>16.301073</td>\n",
       "    </tr>\n",
       "    <tr>\n",
       "      <th>O=C(NC(Cc1ccccc1)CC1CCC[NH2+]1)C(CCc1ccccc1)N1CCCC1=O</th>\n",
       "      <td>0.000747</td>\n",
       "      <td>-4.381732</td>\n",
       "      <td>58.830017</td>\n",
       "    </tr>\n",
       "    <tr>\n",
       "      <th>O=C(CNC(=O)c1cccnc1)NC(CC[NH2+]Cc1ccccc1)Cc1ccccc1</th>\n",
       "      <td>0.031769</td>\n",
       "      <td>-18.245838</td>\n",
       "      <td>47.275589</td>\n",
       "    </tr>\n",
       "    <tr>\n",
       "      <th>O=c1ccc(C2(c3cccc(-c4cccnc4)c3)[NH+]=Cc3ccccc32)c[nH]1</th>\n",
       "      <td>0.229849</td>\n",
       "      <td>42.967407</td>\n",
       "      <td>-27.174763</td>\n",
       "    </tr>\n",
       "    <tr>\n",
       "      <th>O=C1NC(CC[NH2+]C2CC3(CCC3)Oc3ccccc32)Cc2cccc(c2)CCCCn2cc1ccc2=O</th>\n",
       "      <td>0.254066</td>\n",
       "      <td>-34.249954</td>\n",
       "      <td>0.014449</td>\n",
       "    </tr>\n",
       "  </tbody>\n",
       "</table>\n",
       "</div>"
      ],
      "text/plain": [
       "                                                        loss    t-SNE-1  \\\n",
       "O=C(CCc1cnc2ccc(-c3ccccc3)cc2c1)NC1CCOCC1           2.718842  16.516743   \n",
       "O=C(NC(Cc1ccccc1)CC1CCC[NH2+]1)C(CCc1ccccc1)N1C...  0.000747  -4.381732   \n",
       "O=C(CNC(=O)c1cccnc1)NC(CC[NH2+]Cc1ccccc1)Cc1ccccc1  0.031769 -18.245838   \n",
       "O=c1ccc(C2(c3cccc(-c4cccnc4)c3)[NH+]=Cc3ccccc32...  0.229849  42.967407   \n",
       "O=C1NC(CC[NH2+]C2CC3(CCC3)Oc3ccccc32)Cc2cccc(c2...  0.254066 -34.249954   \n",
       "\n",
       "                                                      t-SNE-2  \n",
       "O=C(CCc1cnc2ccc(-c3ccccc3)cc2c1)NC1CCOCC1           16.301073  \n",
       "O=C(NC(Cc1ccccc1)CC1CCC[NH2+]1)C(CCc1ccccc1)N1C...  58.830017  \n",
       "O=C(CNC(=O)c1cccnc1)NC(CC[NH2+]Cc1ccccc1)Cc1ccccc1  47.275589  \n",
       "O=c1ccc(C2(c3cccc(-c4cccnc4)c3)[NH+]=Cc3ccccc32... -27.174763  \n",
       "O=C1NC(CC[NH2+]C2CC3(CCC3)Oc3ccccc32)Cc2cccc(c2...   0.014449  "
      ]
     },
     "execution_count": 40,
     "metadata": {},
     "output_type": "execute_result"
    }
   ],
   "source": [
    "# get scaffold smiles for all test data\n",
    "print(len(test_scaff_smiles))\n",
    "\n",
    "# concatenate test_scaff_smiles with test_losses to a dataframe\n",
    "test_scaff_losses_df = pd.DataFrame({'loss': test_losses})\n",
    "test_scaff_losses_df.index = test_scaff_smiles\n",
    "\n",
    "# map tsne to test_scaff_losses_df\n",
    "test_scaff_losses_df['t-SNE-1'] = tsne.loc[test_scaff_losses_df.index, 't-SNE-1']\n",
    "test_scaff_losses_df['t-SNE-2'] = tsne.loc[test_scaff_losses_df.index, 't-SNE-2']\n",
    "\n",
    "test_scaff_losses_df.head()\n",
    "    "
   ]
  },
  {
   "cell_type": "code",
   "execution_count": 41,
   "metadata": {},
   "outputs": [
    {
     "data": {
      "text/html": [
       "<div>\n",
       "<style scoped>\n",
       "    .dataframe tbody tr th:only-of-type {\n",
       "        vertical-align: middle;\n",
       "    }\n",
       "\n",
       "    .dataframe tbody tr th {\n",
       "        vertical-align: top;\n",
       "    }\n",
       "\n",
       "    .dataframe thead th {\n",
       "        text-align: right;\n",
       "    }\n",
       "</style>\n",
       "<table border=\"1\" class=\"dataframe\">\n",
       "  <thead>\n",
       "    <tr style=\"text-align: right;\">\n",
       "      <th></th>\n",
       "      <th>loss</th>\n",
       "      <th>t-SNE-1</th>\n",
       "      <th>t-SNE-2</th>\n",
       "      <th>avg_distance</th>\n",
       "      <th>train_points_within_radius</th>\n",
       "    </tr>\n",
       "  </thead>\n",
       "  <tbody>\n",
       "    <tr>\n",
       "      <th>O=C(CCc1cnc2ccc(-c3ccccc3)cc2c1)NC1CCOCC1</th>\n",
       "      <td>2.718842</td>\n",
       "      <td>16.516743</td>\n",
       "      <td>16.301073</td>\n",
       "      <td>39.088108</td>\n",
       "      <td>7</td>\n",
       "    </tr>\n",
       "    <tr>\n",
       "      <th>O=C(NC(Cc1ccccc1)CC1CCC[NH2+]1)C(CCc1ccccc1)N1CCCC1=O</th>\n",
       "      <td>0.000747</td>\n",
       "      <td>-4.381732</td>\n",
       "      <td>58.830017</td>\n",
       "      <td>63.834604</td>\n",
       "      <td>33</td>\n",
       "    </tr>\n",
       "    <tr>\n",
       "      <th>O=C(CNC(=O)c1cccnc1)NC(CC[NH2+]Cc1ccccc1)Cc1ccccc1</th>\n",
       "      <td>0.031769</td>\n",
       "      <td>-18.245838</td>\n",
       "      <td>47.275589</td>\n",
       "      <td>56.580094</td>\n",
       "      <td>80</td>\n",
       "    </tr>\n",
       "    <tr>\n",
       "      <th>O=c1ccc(C2(c3cccc(-c4cccnc4)c3)[NH+]=Cc3ccccc32)c[nH]1</th>\n",
       "      <td>0.229849</td>\n",
       "      <td>42.967407</td>\n",
       "      <td>-27.174763</td>\n",
       "      <td>54.863076</td>\n",
       "      <td>20</td>\n",
       "    </tr>\n",
       "    <tr>\n",
       "      <th>O=C1NC(CC[NH2+]C2CC3(CCC3)Oc3ccccc32)Cc2cccc(c2)CCCCn2cc1ccc2=O</th>\n",
       "      <td>0.254066</td>\n",
       "      <td>-34.249954</td>\n",
       "      <td>0.014449</td>\n",
       "      <td>47.067525</td>\n",
       "      <td>0</td>\n",
       "    </tr>\n",
       "  </tbody>\n",
       "</table>\n",
       "</div>"
      ],
      "text/plain": [
       "                                                        loss    t-SNE-1  \\\n",
       "O=C(CCc1cnc2ccc(-c3ccccc3)cc2c1)NC1CCOCC1           2.718842  16.516743   \n",
       "O=C(NC(Cc1ccccc1)CC1CCC[NH2+]1)C(CCc1ccccc1)N1C...  0.000747  -4.381732   \n",
       "O=C(CNC(=O)c1cccnc1)NC(CC[NH2+]Cc1ccccc1)Cc1ccccc1  0.031769 -18.245838   \n",
       "O=c1ccc(C2(c3cccc(-c4cccnc4)c3)[NH+]=Cc3ccccc32...  0.229849  42.967407   \n",
       "O=C1NC(CC[NH2+]C2CC3(CCC3)Oc3ccccc32)Cc2cccc(c2...  0.254066 -34.249954   \n",
       "\n",
       "                                                      t-SNE-2  avg_distance  \\\n",
       "O=C(CCc1cnc2ccc(-c3ccccc3)cc2c1)NC1CCOCC1           16.301073     39.088108   \n",
       "O=C(NC(Cc1ccccc1)CC1CCC[NH2+]1)C(CCc1ccccc1)N1C...  58.830017     63.834604   \n",
       "O=C(CNC(=O)c1cccnc1)NC(CC[NH2+]Cc1ccccc1)Cc1ccccc1  47.275589     56.580094   \n",
       "O=c1ccc(C2(c3cccc(-c4cccnc4)c3)[NH+]=Cc3ccccc32... -27.174763     54.863076   \n",
       "O=C1NC(CC[NH2+]C2CC3(CCC3)Oc3ccccc32)Cc2cccc(c2...   0.014449     47.067525   \n",
       "\n",
       "                                                    train_points_within_radius  \n",
       "O=C(CCc1cnc2ccc(-c3ccccc3)cc2c1)NC1CCOCC1                                    7  \n",
       "O=C(NC(Cc1ccccc1)CC1CCC[NH2+]1)C(CCc1ccccc1)N1C...                          33  \n",
       "O=C(CNC(=O)c1cccnc1)NC(CC[NH2+]Cc1ccccc1)Cc1ccccc1                          80  \n",
       "O=c1ccc(C2(c3cccc(-c4cccnc4)c3)[NH+]=Cc3ccccc32...                          20  \n",
       "O=C1NC(CC[NH2+]C2CC3(CCC3)Oc3ccccc32)Cc2cccc(c2...                           0  "
      ]
     },
     "execution_count": 41,
     "metadata": {},
     "output_type": "execute_result"
    }
   ],
   "source": [
    "train_df = tsne[tsne['target'] == 'train']\n",
    "# test_df = tsne[tsne['target'] == 'test']\n",
    "\n",
    "radius = 5\n",
    "train_points_within_radius = []\n",
    "avg_distances = []\n",
    "\n",
    "for test_index, test_row in test_scaff_losses_df.iterrows():\n",
    "    distances = []\n",
    "    count = 0\n",
    "    for train_index, train_row in train_df.iterrows():\n",
    "        distance = np.sqrt((test_row['t-SNE-1'] - train_row['t-SNE-1'])**2 + (test_row['t-SNE-2'] - train_row['t-SNE-2'])**2)\n",
    "        distances.append(distance)\n",
    "        if distance <= radius:\n",
    "            count += train_row['num']\n",
    "    avg_distance = np.mean(distances) if distances else np.nan\n",
    "    avg_distances.append(avg_distance)\n",
    "    train_points_within_radius.append(count)\n",
    "\n",
    "test_scaff_losses_df['avg_distance'] = avg_distances\n",
    "test_scaff_losses_df['train_points_within_radius'] = train_points_within_radius\n",
    "test_scaff_losses_df.head()"
   ]
  },
  {
   "cell_type": "code",
   "execution_count": 42,
   "metadata": {},
   "outputs": [
    {
     "data": {
      "image/png": "[encoded data removed]",
      "text/plain": [
       "<Figure size 1080x720 with 1 Axes>"
      ]
     },
     "metadata": {
      "needs_background": "light"
     },
     "output_type": "display_data"
    }
   ],
   "source": [
    "# plot the scatter plot \n",
    "\n",
    "fig, ax = plt.subplots()\n",
    "fig.set_size_inches(15, 10)\n",
    "# exclude loss < 0.1\n",
    "filterd_test_scaff_losses_df = test_scaff_losses_df[test_scaff_losses_df['loss'] > 1.5]\n",
    "\n",
    "ax.scatter(test_scaff_losses_df['train_points_within_radius'], test_scaff_losses_df['loss'], alpha=0.5)\n",
    "ax.set_xlabel('Number of Train Points within Radius')\n",
    "ax.set_ylabel('BCE Loss')\n",
    "# ax.set_xlim(-1,250)\n",
    "# ax.set_ylim(-1, 10)\n",
    "# ax.set_xlim(-10, 300)\n",
    "ax.set_title(f'# train points within radius vs BCE Loss {args.dataset}')\n",
    "ax.grid(True)\n",
    "plt.show()\n"
   ]
  },
  {
   "cell_type": "code",
   "execution_count": 30,
   "metadata": {},
   "outputs": [
    {
     "data": {
      "image/png": "[encoded data removed]",
      "text/plain": [
       "<Figure size 1080x720 with 1 Axes>"
      ]
     },
     "metadata": {
      "needs_background": "light"
     },
     "output_type": "display_data"
    }
   ],
   "source": [
    "fig, ax = plt.subplots()\n",
    "fig.set_size_inches(15, 10)\n",
    "ax.scatter(test_scaff_losses_df['avg_distance'], test_scaff_losses_df['loss'], alpha=0.5)\n",
    "ax.set_xlabel('avg_distance to train points')\n",
    "ax.set_ylabel('BCE Loss')\n",
    "ax.set_title(f'avg_distance to train points vs BCE Loss {args.dataset}')\n",
    "ax.set_ylim(-1, 10)\n",
    "ax.grid(True)\n",
    "plt.show()\n"
   ]
  }
 ],
 "metadata": {
  "kernelspec": {
   "display_name": "tda_diff",
   "language": "python",
   "name": "python3"
  },
  "language_info": {
   "codemirror_mode": {
    "name": "ipython",
    "version": 3
   },
   "file_extension": ".py",
   "mimetype": "text/x-python",
   "name": "python",
   "nbconvert_exporter": "python",
   "pygments_lexer": "ipython3",
   "version": "3.7.12"
  }
 },
 "nbformat": 4,
 "nbformat_minor": 2
}
