{
 "cells": [
  {
   "cell_type": "code",
   "execution_count": null,
   "metadata": {},
   "outputs": [
    {
     "name": "stderr",
     "output_type": "stream",
     "text": [
      "WARNING:root:The OGB package is out of date. Your version is 1.3.4, while the latest version is 1.3.6.\n"
     ]
    },
    {
     "ename": "ImportError",
     "evalue": "cannot import name 'Plotter' from 'plotter.plot' (/home/allenwang/Projects/data_centric_transfer_scaffold/plotter/plot.py)",
     "output_type": "error",
     "traceback": [
      "\u001b[0;31m---------------------------------------------------------------------------\u001b[0m",
      "\u001b[0;31mImportError\u001b[0m                               Traceback (most recent call last)",
      "\u001b[0;32m<ipython-input-1-03acf9535162>\u001b[0m in \u001b[0;36m<module>\u001b[0;34m\u001b[0m\n\u001b[1;32m     10\u001b[0m \u001b[0;32mimport\u001b[0m \u001b[0msys\u001b[0m\u001b[0;34m\u001b[0m\u001b[0;34m\u001b[0m\u001b[0m\n\u001b[1;32m     11\u001b[0m \u001b[0msys\u001b[0m\u001b[0;34m.\u001b[0m\u001b[0mpath\u001b[0m\u001b[0;34m.\u001b[0m\u001b[0mappend\u001b[0m\u001b[0;34m(\u001b[0m\u001b[0;34m'./plotter/'\u001b[0m\u001b[0;34m)\u001b[0m\u001b[0;34m\u001b[0m\u001b[0;34m\u001b[0m\u001b[0m\n\u001b[0;32m---> 12\u001b[0;31m \u001b[0;32mfrom\u001b[0m \u001b[0mplotter\u001b[0m\u001b[0;34m.\u001b[0m\u001b[0mplot\u001b[0m \u001b[0;32mimport\u001b[0m \u001b[0mPlotter\u001b[0m\u001b[0;34m,\u001b[0m \u001b[0mconvert_idx_list\u001b[0m\u001b[0;34m,\u001b[0m \u001b[0mOrig_Plotter\u001b[0m\u001b[0;34m\u001b[0m\u001b[0;34m\u001b[0m\u001b[0m\n\u001b[0m\u001b[1;32m     13\u001b[0m \u001b[0;34m\u001b[0m\u001b[0m\n\u001b[1;32m     14\u001b[0m \u001b[0mwarnings\u001b[0m\u001b[0;34m.\u001b[0m\u001b[0mfilterwarnings\u001b[0m\u001b[0;34m(\u001b[0m\u001b[0;34m'ignore'\u001b[0m\u001b[0;34m)\u001b[0m\u001b[0;34m\u001b[0m\u001b[0;34m\u001b[0m\u001b[0m\n",
      "\u001b[0;31mImportError\u001b[0m: cannot import name 'Plotter' from 'plotter.plot' (/home/allenwang/Projects/data_centric_transfer_scaffold/plotter/plot.py)"
     ]
    }
   ],
   "source": [
    "import torch\n",
    "from dataset.get_datasets import get_dataset\n",
    "import warnings\n",
    "\n",
    "from dataset.scaffold import ogbg_with_smiles\n",
    "import os \n",
    "import gzip\n",
    "import pandas as pd\n",
    "\n",
    "import sys\n",
    "sys.path.append('./plotter/')\n",
    "from plotter.plot import Plotter, convert_idx_list, Orig_Plotter\n",
    "\n",
    "warnings.filterwarnings('ignore')"
   ]
  },
  {
   "cell_type": "code",
   "execution_count": null,
   "metadata": {},
   "outputs": [],
   "source": [
    "labeled_dataset = get_dataset(args, './raw_data')\n",
    "labeled_dataset_list = [data for data in labeled_dataset]\n",
    "smile_path = os.path.join('./raw_data', '_'.join(args.dataset.split('-')), 'mapping/mol.csv.gz')\n",
    "smiles_df = pd.read_csv(smile_path, compression='gzip', usecols=['smiles'])\n",
    "smiles = smiles_df['smiles'].tolist() \n",
    "#test_idx = labeled_dataset.get_idx_split()"
   ]
  },
  {
   "cell_type": "code",
   "execution_count": null,
   "metadata": {},
   "outputs": [],
   "source": [
    "new_labeled_dataset = ogbg_with_smiles(name = args.dataset,\n",
    "                                   root = './raw_data',\n",
    "                                   data_list = labeled_dataset_list, \n",
    "                                   smile_list = smiles)\n",
    "label_split_idx = new_labeled_dataset.get_idx_split(split_type = 'scaffold')\n",
    "label_split_idx_random = new_labeled_dataset.get_idx_split(split_type = 'random')"
   ]
  },
  {
   "cell_type": "markdown",
   "metadata": {},
   "source": [
    "## TSNE"
   ]
  },
  {
   "cell_type": "code",
   "execution_count": null,
   "metadata": {},
   "outputs": [],
   "source": [
    "split_list = convert_idx_list(label_split_idx)\n",
    "split_list_random = convert_idx_list(label_split_idx_random)\n",
    "# append ths split_list to smile datframe\n",
    "smiles_df['split'] = split_list\n",
    "#smiles_df['y'] = y_list\n",
    "smiles_df['split_random'] = split_list_random"
   ]
  },
  {
   "cell_type": "code",
   "execution_count": null,
   "metadata": {},
   "outputs": [],
   "source": [
    "smiles_df.head(5)"
   ]
  },
  {
   "cell_type": "code",
   "execution_count": null,
   "metadata": {},
   "outputs": [],
   "source": [
    "\n",
    "# test= Plotter.from_smiles(smiles_df[\"smiles\"], target=smiles_df[\"y\"], idx = smiles_df[\"split\"] , \n",
    "#                           target_type=\"C\", sim_type='structural')\n",
    "\n",
    "test1 = Orig_Plotter.from_smiles(smiles_df[\"smiles\"], target=smiles_df[\"split\"] ,target_type=\"C\", sim_type='structural')\n",
    "#test2 = Orig_Plotter.from_smiles(smiles_df[\"smiles\"], target=smiles_df[\"y\"] ,target_type=\"C\", sim_type='structural')\n",
    "test3 = Orig_Plotter.from_smiles(smiles_df[\"smiles\"], target=smiles_df[\"split_random\"] ,target_type=\"C\", sim_type='structural')\n"
   ]
  },
  {
   "cell_type": "code",
   "execution_count": null,
   "metadata": {},
   "outputs": [],
   "source": [
    "test1.tsne(random_state=0)\n",
    "#test2.tsne(random_state=0)\n",
    "test3.tsne(random_state=0)"
   ]
  },
  {
   "cell_type": "code",
   "execution_count": null,
   "metadata": {},
   "outputs": [],
   "source": [
    "fig1 = test1.visualize_plot(kind = 'scatter', size = 11, title=f'{args.dataset} scaffold split t-sne')\n",
    "fig3 = test3.visualize_plot(kind = 'scatter', size = 11, title=f'{args.dataset} random split t-sne')\n",
    "#fig2 = test2.visualize_plot(kind = 'scatter', size = 11, title=f'{args.dataset} property t-sne')\n"
   ]
  },
  {
   "cell_type": "code",
   "execution_count": null,
   "metadata": {},
   "outputs": [],
   "source": [
    "from bokeh.io import output_notebook\n",
    "output_notebook()"
   ]
  },
  {
   "cell_type": "code",
   "execution_count": null,
   "metadata": {},
   "outputs": [],
   "source": [
    "test1.interactive_plot(show_plot=True)"
   ]
  },
  {
   "cell_type": "code",
   "execution_count": null,
   "metadata": {},
   "outputs": [],
   "source": [
    "test2.interactive_plot(show_plot=True)"
   ]
  },
  {
   "cell_type": "markdown",
   "metadata": {},
   "source": [
    "## Scaffold Data"
   ]
  },
  {
   "cell_type": "code",
   "execution_count": null,
   "metadata": {},
   "outputs": [],
   "source": [
    "\n",
    "device = torch.device(\"cuda\" if torch.cuda.is_available() else \"cpu\")\n",
    "print(device)    \n",
    "\n",
    "class Args:\n",
    "    def __init__(self):\n",
    "        self.dataset = 'ogbg-molbace'\n",
    "        self.device = device\n",
    "        self.batch_size = 128\n",
    "        \n",
    "args = Args()\n",
    "\n",
    "\n",
    "labeled_dataset = get_dataset(args, './raw_data')\n",
    "labeled_dataset_list = [data for data in labeled_dataset]\n",
    "smile_path = os.path.join('./raw_data', '_'.join(args.dataset.split('-')), 'mapping/mol.csv.gz')\n",
    "smiles_df = pd.read_csv(smile_path, compression='gzip', usecols=['smiles'])\n",
    "smiles = smiles_df['smiles'].tolist() \n"
   ]
  },
  {
   "cell_type": "code",
   "execution_count": null,
   "metadata": {},
   "outputs": [],
   "source": [
    "from dataset.scaffold import get_scaffold_split_info, _generate_scaffold, generate_scaffolds_dict\n",
    "\n",
    "label_scaffold_split_idx = new_labeled_dataset.get_idx_split(split_type = 'scaffold')\n",
    "\n",
    "_,all_scaffolds_set = generate_scaffolds_dict(smiles)\n",
    "print(f'There are {len(all_scaffolds_set)} scaffolds in total')\n",
    "\n",
    "all_scaffolds_smiles = [tup[0] for tup in all_scaffolds_set]"
   ]
  },
  {
   "cell_type": "code",
   "execution_count": null,
   "metadata": {},
   "outputs": [],
   "source": [
    "train_smiles = [smiles[i] for i in label_scaffold_split_idx['train']]\n",
    "_, train_scaffold = generate_scaffolds_dict(train_smiles)\n",
    "train_scaffold_num = dict([(tup[0], len(tup[1])) for tup in train_scaffold])\n",
    "# sort the dict by alphabetic order of the scaffold smiles\n",
    "#train_scaffold_num = dict(sorted(train_scaffold_num.items(), key=lambda item: item[0]))\n",
    "\n",
    "valid_smiles = [smiles[i] for i in label_scaffold_split_idx['valid']]\n",
    "_, valid_scaffold = generate_scaffolds_dict(valid_smiles)\n",
    "valid_scaffold_num = dict([(tup[0], len(tup[1])) for tup in valid_scaffold])\n",
    "#valid_scaffold_num = dict(sorted(valid_scaffold_num.items(), key=lambda item: item[0]))\n",
    "\n",
    "test_smiles = [smiles[i] for i in label_scaffold_split_idx['test']]\n",
    "_, test_scaffold = generate_scaffolds_dict(test_smiles)\n",
    "test_scaffold_num = dict([(tup[0], len(tup[1])) for tup in test_scaffold])\n",
    "#test_scaffold_num = dict(sorted(test_scaffold_num.items(), key=lambda item: item[0]))"
   ]
  },
  {
   "cell_type": "code",
   "execution_count": null,
   "metadata": {},
   "outputs": [],
   "source": [
    "import matplotlib.pyplot as plt\n",
    "\n",
    "fig = plt.figure(figsize=(18, 6))\n",
    "\n",
    "# Plot for train set\n",
    "plt.subplot(1, 3, 1)  # 1 row, 3 columns, 1st subplot\n",
    "keys = list(train_scaffold_num.keys())\n",
    "counts = list(train_scaffold_num.values())\n",
    "indices = list(range(len(keys)))\n",
    "plt.bar(indices, counts)\n",
    "plt.xlabel('scaffold id')\n",
    "plt.ylabel('count')\n",
    "plt.ylim(0, 60)  # Set y limit\n",
    "plt.title('scaffold distribution in train set')\n",
    "\n",
    "# Plot for test set\n",
    "plt.subplot(1, 3, 2)  # 1 row, 3 columns, 2nd subplot\n",
    "keys = list(test_scaffold_num.keys())\n",
    "counts = list(test_scaffold_num.values())\n",
    "indices = list(range(len(keys)))\n",
    "plt.bar(indices, counts)\n",
    "plt.xlabel('scaffold id')\n",
    "plt.ylim(0, 60)  # Set y limit\n",
    "plt.title('scaffold distribution in test set')\n",
    "\n",
    "# Plot for validation set\n",
    "plt.subplot(1, 3, 3)  # 1 row, 3 columns, 3rd subplot\n",
    "keys = list(valid_scaffold_num.keys())\n",
    "counts = list(valid_scaffold_num.values())\n",
    "indices = list(range(len(keys)))\n",
    "plt.bar(indices, counts)\n",
    "plt.xlabel('scaffold id')\n",
    "plt.ylim(0, 60)  # Set y limit\n",
    "plt.title('scaffold distribution in validation set')\n",
    "\n",
    "plt.tight_layout()\n",
    "plt.show()"
   ]
  },
  {
   "cell_type": "code",
   "execution_count": null,
   "metadata": {},
   "outputs": [],
   "source": [
    "scaffold_split_dict = {}\n",
    "scaffold_num_dict = {}\n",
    "for scaffold_smile in all_scaffolds_smiles:\n",
    "    if train_scaffold_num[scaffold_smile] > 0:\n",
    "        scaffold_split_dict[scaffold_smile] = 'train'\n",
    "        scaffold_num_dict[scaffold_smile] = train_scaffold_num[scaffold_smile]\n",
    "    elif valid_scaffold_num[scaffold_smile] > 0:\n",
    "        scaffold_split_dict[scaffold_smile] = 'valid'\n",
    "        scaffold_num_dict[scaffold_smile] = valid_scaffold_num[scaffold_smile]\n",
    "    else:\n",
    "        scaffold_split_dict[scaffold_smile] = 'test'\n",
    "        scaffold_num_dict[scaffold_smile] = test_scaffold_num[scaffold_smile]\n"
   ]
  },
  {
   "cell_type": "code",
   "execution_count": null,
   "metadata": {},
   "outputs": [],
   "source": [
    "scaffold_split_df = pd.DataFrame.from_dict(scaffold_split_dict, orient='index')\n",
    "scaffold_split_df.reset_index(inplace=True)\n",
    "\n",
    "scaffold_split_df.columns = ['scaffold', 'split']\n",
    "\n",
    "scaffold_split_df['num'] = scaffold_split_df['scaffold'].map(scaffold_num_dict)\n",
    "\n",
    "print(scaffold_split_df['split'].value_counts())\n",
    "scaffold_split_df.head()"
   ]
  },
  {
   "cell_type": "code",
   "execution_count": null,
   "metadata": {},
   "outputs": [],
   "source": [
    "from plotter.plot_test import Plotter\n",
    "plot = Orig_Plotter.from_smiles(scaffold_split_df[\"scaffold\"], target=scaffold_split_df[\"split\"] ,target_type=\"C\", sim_type='structural')\n",
    "plot.tsne(random_state=0)\n",
    "plot.visualize_plot(kind = 'scatter', size = 11, title=f'{args.dataset} scaffold split t-sne')"
   ]
  }
 ],
 "metadata": {
  "kernelspec": {
   "display_name": "tda_diff",
   "language": "python",
   "name": "python3"
  },
  "language_info": {
   "codemirror_mode": {
    "name": "ipython",
    "version": 3
   },
   "file_extension": ".py",
   "mimetype": "text/x-python",
   "name": "python",
   "nbconvert_exporter": "python",
   "pygments_lexer": "ipython3",
   "version": "3.7.12"
  }
 },
 "nbformat": 4,
 "nbformat_minor": 2
}
