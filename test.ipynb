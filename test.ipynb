{
 "cells": [
  {
   "cell_type": "code",
   "execution_count": 1,
   "metadata": {},
   "outputs": [
    {
     "name": "stdout",
     "output_type": "stream",
     "text": [
      "CUDA is available: True\n"
     ]
    }
   ],
   "source": [
    "import torch\n",
    "\n",
    "cuda_available = torch.cuda.is_available()\n",
    "print(\"CUDA is available:\", cuda_available)\n"
   ]
  },
  {
   "cell_type": "code",
   "execution_count": 6,
   "metadata": {},
   "outputs": [],
   "source": [
    "import torch\n",
    "device = torch.device(\"cuda\" if torch.cuda.is_available() else \"cpu\")\n",
    "path = \"checkpoints/pcba_denoise.pth\"\n",
    "ckpt = torch.load(path, map_location=device)\n"
   ]
  },
  {
   "cell_type": "code",
   "execution_count": 5,
   "metadata": {},
   "outputs": [],
   "source": [
    "from utils.models.ScoreNetwork_A import ScoreNetworkA\n",
    "from utils.models.ScoreNetwork_X import ScoreNetworkX, ScoreNetworkX_GMH\n",
    "\n",
    "\n",
    "def load_model(params):\n",
    "    params_ = params.copy()\n",
    "    model_type = params_.pop('model_type', None)\n",
    "    if model_type == 'ScoreNetworkX':\n",
    "        model = ScoreNetworkX(**params_)\n",
    "    elif model_type == 'ScoreNetworkX_GMH':\n",
    "        model = ScoreNetworkX_GMH(**params_)\n",
    "    elif model_type == 'ScoreNetworkA':\n",
    "        model = ScoreNetworkA(**params_)\n",
    "    else:\n",
    "        raise ValueError(f\"Model Name <{model_type}> is Unknown\")\n",
    "    return model\n",
    "\n",
    "def load_model_from_ckpt(params, state_dict, device):\n",
    "    model = load_model(params)\n",
    "    if 'module.' in list(state_dict.keys())[0]:\n",
    "        # strip 'module.' at front; for DataParallel models\n",
    "        state_dict = {k[7:]: v for k, v in state_dict.items()}\n",
    "    model.load_state_dict(state_dict)\n",
    "    if isinstance(device, list):\n",
    "        if len(device) > 1:\n",
    "            model = torch.nn.DataParallel(model, device_ids=device)\n",
    "    else:\n",
    "        model = model.to(device)\n",
    "    return model"
   ]
  },
  {
   "cell_type": "code",
   "execution_count": 10,
   "metadata": {},
   "outputs": [],
   "source": [
    "denoise_x = load_model_from_ckpt(ckpt['params_x'], ckpt['x_state_dict'], device)\n",
    "denoise_adj = load_model_from_ckpt(ckpt['params_adj'], ckpt['adj_state_dict'], device)"
   ]
  },
  {
   "cell_type": "code",
   "execution_count": 12,
   "metadata": {},
   "outputs": [
    {
     "name": "stdout",
     "output_type": "stream",
     "text": [
      "ScoreNetworkX(\n",
      "  (layers): ModuleList(\n",
      "    (0): DenseGCNConv(118, 32)\n",
      "    (1): DenseGCNConv(32, 32)\n",
      "  )\n",
      "  (final): MLP(\n",
      "    (linears): ModuleList(\n",
      "      (0): Linear(in_features=182, out_features=364, bias=True)\n",
      "      (1): Linear(in_features=364, out_features=364, bias=True)\n",
      "      (2): Linear(in_features=364, out_features=118, bias=True)\n",
      "    )\n",
      "  )\n",
      ")\n"
     ]
    }
   ],
   "source": [
    "print(denoise_x)\n",
    "# print(denoise_adj)"
   ]
  },
  {
   "cell_type": "code",
   "execution_count": 25,
   "metadata": {},
   "outputs": [],
   "source": [
    "from dataset.get_datasets import get_dataset\n",
    "import os\n",
    "import pandas as pd\n",
    "class Args:\n",
    "    def __init__(self):\n",
    "        self.dataset = 'ogbg-molbace'\n",
    "        self.device = device\n",
    "        self.batch_size = 128\n",
    "        \n",
    "args = Args()\n",
    "\n",
    "\n",
    "labeled_dataset = get_dataset(args, './raw_data')"
   ]
  },
  {
   "cell_type": "code",
   "execution_count": 26,
   "metadata": {},
   "outputs": [
    {
     "data": {
      "text/plain": [
       "tensor([8, 6, 6, 6, 7, 6, 8, 6, 6, 6, 6, 6, 6, 6, 6, 6, 6, 7, 6, 7, 6, 6, 6, 6,\n",
       "        6, 6, 6, 6, 6, 6, 6, 6])"
      ]
     },
     "execution_count": 26,
     "metadata": {},
     "output_type": "execute_result"
    }
   ],
   "source": [
    "mol = labeled_dataset[0]\n",
    "mol.x[:,0].view(-1) + 1"
   ]
  },
  {
   "cell_type": "code",
   "execution_count": 27,
   "metadata": {},
   "outputs": [],
   "source": [
    "smile_path = os.path.join('./raw_data', '_'.join(args.dataset.split('-')), 'mapping/mol.csv.gz')\n",
    "smiles_df = pd.read_csv(smile_path, compression='gzip', usecols=['smiles'])\n",
    "smiles = smiles_df['smiles'].tolist() "
   ]
  },
  {
   "cell_type": "code",
   "execution_count": 28,
   "metadata": {},
   "outputs": [
    {
     "name": "stdout",
     "output_type": "stream",
     "text": [
      "O1CC[C@@H](NC(=O)[C@@H](Cc2cc3cc(ccc3nc2N)-c2ccccc2C)C)CC1(C)C\n"
     ]
    }
   ],
   "source": [
    "print(smiles[0])"
   ]
  }
 ],
 "metadata": {
  "kernelspec": {
   "display_name": "tda_diff",
   "language": "python",
   "name": "python3"
  },
  "language_info": {
   "codemirror_mode": {
    "name": "ipython",
    "version": 3
   },
   "file_extension": ".py",
   "mimetype": "text/x-python",
   "name": "python",
   "nbconvert_exporter": "python",
   "pygments_lexer": "ipython3",
   "version": "3.7.12"
  }
 },
 "nbformat": 4,
 "nbformat_minor": 2
}
